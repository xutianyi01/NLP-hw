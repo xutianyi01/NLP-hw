{
 "cells": [
  {
   "cell_type": "markdown",
   "metadata": {},
   "source": [
    "To complete this assignment, fill in any place that says `YOUR CODE HERE` or `YOUR ANSWER HERE`, as well as your name below.\n",
    "\n",
    "To make sure everything runs as expected, do the following\n",
    "- **restart the kernel** (in the menubar, select Kernel$\\rightarrow$Restart)\n",
    "- **run all cells** (in the menubar, select Cell$\\rightarrow$Run All).\n",
    "\n",
    "A good introduction to Jupyter notebooks is [here](https://realpython.com/jupyter-notebook-introduction/).\n"
   ]
  },
  {
   "cell_type": "code",
   "execution_count": 1,
   "metadata": {},
   "outputs": [],
   "source": [
    "NAME = \"Tianyi Xu\""
   ]
  },
  {
   "cell_type": "markdown",
   "metadata": {},
   "source": [
    "---"
   ]
  },
  {
   "cell_type": "markdown",
   "metadata": {
    "toc": true
   },
   "source": [
    "<h1>Table of Contents<span class=\"tocSkip\"></span></h1>\n",
    "<div class=\"toc\"><ul class=\"toc-item\"><li><span><a href=\"#Part-I:-Word-Vectors\" data-toc-modified-id=\"Part-I:-Word-Vectors-1\"><span class=\"toc-item-num\">1&nbsp;&nbsp;</span>Part I: Word Vectors</a></span><ul class=\"toc-item\"><li><span><a href=\"#Using-embeddings-for-classification\" data-toc-modified-id=\"Using-embeddings-for-classification-1.1\"><span class=\"toc-item-num\">1.1&nbsp;&nbsp;</span>Using embeddings for classification</a></span></li><li><span><a href=\"#Intepreting-word-vector-models\" data-toc-modified-id=\"Intepreting-word-vector-models-1.2\"><span class=\"toc-item-num\">1.2&nbsp;&nbsp;</span>Intepreting word vector models</a></span></li></ul></li><li><span><a href=\"#Part-II:-Sequence-Models\" data-toc-modified-id=\"Part-II:-Sequence-Models-2\"><span class=\"toc-item-num\">2&nbsp;&nbsp;</span>Part II: Sequence Models</a></span><ul class=\"toc-item\"><li><span><a href=\"#transition-probabilities\" data-toc-modified-id=\"transition-probabilities-2.1\"><span class=\"toc-item-num\">2.1&nbsp;&nbsp;</span>transition probabilities</a></span></li><li><span><a href=\"#emission-probabilities\" data-toc-modified-id=\"emission-probabilities-2.2\"><span class=\"toc-item-num\">2.2&nbsp;&nbsp;</span>emission probabilities</a></span></li><li><span><a href=\"#start-probabilities\" data-toc-modified-id=\"start-probabilities-2.3\"><span class=\"toc-item-num\">2.3&nbsp;&nbsp;</span>start probabilities</a></span></li><li><span><a href=\"#Viterbi\" data-toc-modified-id=\"Viterbi-2.4\"><span class=\"toc-item-num\">2.4&nbsp;&nbsp;</span>Viterbi</a></span></li><li><span><a href=\"#running-your-HMM-on-real-data\" data-toc-modified-id=\"running-your-HMM-on-real-data-2.5\"><span class=\"toc-item-num\">2.5&nbsp;&nbsp;</span>running your HMM on real data</a></span></li></ul></li><li><span><a href=\"#Part-III:-RNNs-for-POS-tagging\" data-toc-modified-id=\"Part-III:-RNNs-for-POS-tagging-3\"><span class=\"toc-item-num\">3&nbsp;&nbsp;</span>Part III: RNNs for POS tagging</a></span><ul class=\"toc-item\"><li><span><a href=\"#RNNs-on-real-data.\" data-toc-modified-id=\"RNNs-on-real-data.-3.1\"><span class=\"toc-item-num\">3.1&nbsp;&nbsp;</span>RNNs on real data.</a></span></li><li><span><a href=\"#RNNs-with-word-embeddings\" data-toc-modified-id=\"RNNs-with-word-embeddings-3.2\"><span class=\"toc-item-num\">3.2&nbsp;&nbsp;</span>RNNs with word embeddings</a></span></li></ul></li></ul></div>"
   ]
  },
  {
   "cell_type": "markdown",
   "metadata": {
    "deletable": false,
    "editable": false,
    "nbgrader": {
     "cell_type": "markdown",
     "checksum": "ec7d43d45eb8f9384587176878f147dd",
     "grade": false,
     "grade_id": "jupyter",
     "locked": true,
     "schema_version": 3,
     "solution": false
    }
   },
   "source": [
    "\n",
    "In this assignment we will:\n",
    "- explore word embeddings for classification\n",
    "- implement HMMs for part-of-speech tagging\n",
    "- apply RNNs for part-of-speech tagging\n",
    "\n",
    "As in the previous assignment, there are spaces below for you to both write code and short answers. In some places, there are tests to check your work, though passing tests does not guarantee full credit. I recommend moving sequentially from top to bottom, getting each step working before moving on to the next.\n",
    "\n",
    "This assignment will use a number of Python libraries, listed in the next cell. If you haven't already installed these, you can do so by running this command in this directory: `pip install -r requirements.txt`. Minor variants in the version numbers shouldn't affect things much.\n",
    "\n"
   ]
  },
  {
   "cell_type": "code",
   "execution_count": 2,
   "metadata": {},
   "outputs": [
    {
     "name": "stderr",
     "output_type": "stream",
     "text": [
      "C:\\anaconda\\lib\\site-packages\\numpy\\_distributor_init.py:32: UserWarning: loaded more than 1 DLL from .libs:\n",
      "C:\\anaconda\\lib\\site-packages\\numpy\\.libs\\libopenblas.TXA6YQSD3GCQQC22GEQ54J2UDCXDXHWN.gfortran-win_amd64.dll\n",
      "C:\\anaconda\\lib\\site-packages\\numpy\\.libs\\libopenblas.WCDJNK7YVMPZQ2ME2ZZHJJRJ3JIKNDB7.gfortran-win_amd64.dll\n",
      "  stacklevel=1)\n"
     ]
    }
   ],
   "source": [
    "#!pip install -r requirements.txt\n",
    "# imports\n",
    "from collections import Counter, defaultdict\n",
    "import gensim\n",
    "import gensim.downloader as api\n",
    "import numpy as np\n",
    "from numpy import array as npa\n",
    "import matplotlib.pyplot as plt\n",
    "import math\n",
    "import pandas as pd\n",
    "import re\n",
    "from scipy.sparse import csr_matrix\n",
    "import seaborn as sns\n",
    "import torch\n",
    "import torch.nn as nn\n",
    "from sklearn.decomposition import PCA\n",
    "from sklearn.feature_extraction.text import CountVectorizer\n",
    "from sklearn.linear_model import LogisticRegression\n",
    "from sklearn.metrics import classification_report, f1_score\n",
    "from sklearn.naive_bayes import BernoulliNB,MultinomialNB\n",
    "import torch\n",
    "import torch.nn as nn\n",
    "from tqdm import tqdm\n",
    "\n",
    "%matplotlib inline\n",
    "sns.set(style=\"whitegrid\", font_scale=1.5, rc={'figure.figsize':(12, 6)})\n",
    "pd.set_option('display.max_colwidth', 100)"
   ]
  },
  {
   "cell_type": "markdown",
   "metadata": {},
   "source": [
    "## Part I: Word Vectors\n",
    "\n",
    "In this section, we'll load some pre-trained word embeddings and use them to re-classify the movie review data from HW1."
   ]
  },
  {
   "cell_type": "code",
   "execution_count": 3,
   "metadata": {},
   "outputs": [
    {
     "name": "stdout",
     "output_type": "stream",
     "text": [
      "word embeddings for 400000 words of dimension 50\n"
     ]
    }
   ],
   "source": [
    "# Load a small word embedding model.\n",
    "# Here we're using a variant called GloVe, which is trained a bit differently than we've done in class.\n",
    "# https://nlp.stanford.edu/projects/glove/\n",
    "# The details will not matter much for the purposes of this assignment.\n",
    "w2v = api.load('glove-wiki-gigaword-50')\n",
    "# see list of possible downloads here: https://github.com/RaRe-Technologies/gensim-data\n",
    "print('word embeddings for %d words of dimension %d' % (len(w2v.vocab), len(w2v['love'])))"
   ]
  },
  {
   "cell_type": "markdown",
   "metadata": {},
   "source": [
    "Let's project these 50 dimensions down to 2 to visualize some important terms."
   ]
  },
  {
   "cell_type": "code",
   "execution_count": 4,
   "metadata": {},
   "outputs": [
    {
     "data": {
      "image/png": "[encoded data removed]",
      "text/plain": [
       "<Figure size 864x864 with 1 Axes>"
      ]
     },
     "metadata": {
      "needs_background": "light"
     },
     "output_type": "display_data"
    }
   ],
   "source": [
    "def plot_embeddings_w2v(w2v, words):\n",
    "    word_vectors = np.array([w2v[a] for a in words])\n",
    "    #print(word_vectors)\n",
    "    # reduce two 2 dimensions\n",
    "    twodim = PCA(random_state=42).fit_transform(word_vectors)[:,:2]\n",
    "    plt.figure(figsize=(12,12))\n",
    "    plt.scatter(twodim[:,0], twodim[:,1], edgecolors='k', c='r')\n",
    "    for word, (x,y) in zip(words, twodim):\n",
    "        plt.text(x+.05, y+.05, word)\n",
    "    plt.show()\n",
    "    \n",
    "plot_embeddings_w2v(w2v, ['great', 'best', 'worth', 'again', 'watch', 'excellent', 'characters', 'where', 'role',\n",
    "                          'worst', 'nothing', 'bad', 'terrible', 'waste', 'boring', 'why', 'awful', 'because', 'poor'])\n",
    "# seems to be some signal separating words by sentiment."
   ]
  },
  {
   "cell_type": "markdown",
   "metadata": {},
   "source": [
    "### Using embeddings for classification\n",
    "\n",
    "Our first task is to use these embeddings for classification. As mentioned in class, we have a few options for ways of aggregating the vectors for all the words in a document. For example:\n",
    "\n",
    "1. `average`: average the vectors\n",
    "2. `max`: take the max along each dimension\n",
    "3. `min`: take the min along each dimension\n",
    "4. `min` $\\oplus$ `max`: concatenate `min` and `max` vectors (total length = 50*2)\n",
    "\n",
    "We'll reclassify the movie review data from the previous assignment using word vectors to see if it makes a difference in accuracy."
   ]
  },
  {
   "cell_type": "code",
   "execution_count": 5,
   "metadata": {
    "deletable": false,
    "nbgrader": {
     "cell_type": "code",
     "checksum": "9c5ce3399935f48053aabebc84b1534f",
     "grade": false,
     "grade_id": "avg",
     "locked": false,
     "schema_version": 3,
     "solution": true,
     "task": false
    }
   },
   "outputs": [
    {
     "data": {
      "text/plain": [
       "array([ 1.04381502e-01,  1.12444997e+00, -1.11439991e+00, -1.83170259e-01,\n",
       "        9.02209997e-01, -1.15970001e-01, -4.11805004e-01,  1.08799994e-01,\n",
       "       -1.49732307e-01,  4.88041997e-01, -3.08196008e-01,  7.14240015e-01,\n",
       "        7.25699961e-02, -3.05836499e-01,  3.61425489e-01, -2.32325003e-01,\n",
       "        8.04440022e-01,  5.78559995e-01, -5.50194502e-01, -4.66484994e-01,\n",
       "       -2.54790008e-01,  5.64771473e-01, -3.36724997e-01, -2.48538494e-01,\n",
       "        1.35455000e+00, -1.14691496e+00, -1.47009993e+00,  3.87299955e-02,\n",
       "        7.62910008e-01, -1.75379992e-01,  2.61150002e+00,  5.92914999e-01,\n",
       "        1.46920502e-01, -9.90229994e-02,  1.34599954e-03,  3.83454978e-01,\n",
       "       -2.68949986e-01,  5.49224973e-01, -7.21860006e-02, -2.64769018e-01,\n",
       "        2.64299959e-02,  1.97219014e-01, -4.18669999e-01, -3.80999967e-02,\n",
       "       -1.36449933e-02,  6.19724989e-01, -1.01674005e-01, -3.29100013e-01,\n",
       "       -2.20425010e-01,  2.95679986e-01], dtype=float32)"
      ]
     },
     "execution_count": 5,
     "metadata": {},
     "output_type": "execute_result"
    }
   ],
   "source": [
    "def average_vectors(words, w2v):\n",
    "    # YOUR CODE HERE\n",
    "    word_vectors = np.array([w2v[a] for a in words])\n",
    "    meanall = []\n",
    "    value = []\n",
    "    for i in range(len(w2v['love'])):\n",
    "        for j in range(len(words)):\n",
    "            value.append(word_vectors[j][i])\n",
    "        meanall.append(np.mean(value))\n",
    "        value = []\n",
    "    meanall = np.array(meanall)\n",
    "    return meanall\n",
    "    \n",
    "\n",
    "average_vectors(['great', 'wonderful'], w2v)"
   ]
  },
  {
   "cell_type": "code",
   "execution_count": 6,
   "metadata": {
    "deletable": false,
    "editable": false,
    "nbgrader": {
     "cell_type": "code",
     "checksum": "fa1985c666057ec0488140e60f7bc90f",
     "grade": true,
     "grade_id": "avg2",
     "locked": true,
     "points": 1,
     "schema_version": 3,
     "solution": false,
     "task": false
    }
   },
   "outputs": [],
   "source": [
    "assert round(average_vectors(['great', 'wonderful'], w2v)[0].item(), 2) == .10\n",
    "assert round(average_vectors(['great', 'wonderful'], w2v)[1].item(), 2) == 1.12\n",
    "assert average_vectors(['great', 'wonderful'], w2v).shape[0] == 50"
   ]
  },
  {
   "cell_type": "code",
   "execution_count": 7,
   "metadata": {
    "deletable": false,
    "nbgrader": {
     "cell_type": "code",
     "checksum": "cb271d655b0133bc021426d2b90452b4",
     "grade": false,
     "grade_id": "max",
     "locked": false,
     "schema_version": 3,
     "solution": true,
     "task": false
    }
   },
   "outputs": [
    {
     "data": {
      "text/plain": [
       "array([ 2.3533e-01,  1.3357e+00, -1.0280e+00,  6.5595e-03,  1.2843e+00,\n",
       "       -1.0495e-01, -3.5433e-01,  3.7824e-01, -2.3046e-03,  8.8219e-01,\n",
       "       -3.4122e-02,  9.2961e-01,  2.8537e-01,  2.1317e-02,  7.0205e-01,\n",
       "       -2.1533e-01,  9.6923e-01,  6.8058e-01, -9.6489e-02, -2.4013e-01,\n",
       "       -1.4633e-01,  1.1343e+00, -1.5865e-01, -3.4477e-02,  1.4644e+00,\n",
       "       -4.6223e-01, -1.3821e+00,  4.5211e-01,  9.9220e-01,  2.0883e-01,\n",
       "        3.2209e+00,  6.4549e-01,  3.7438e-01, -2.1476e-02,  2.6856e-02,\n",
       "        4.2905e-01, -1.1890e-01,  6.9764e-01, -2.9882e-02,  5.1232e-02,\n",
       "        2.0491e-01,  2.9855e-01, -3.9682e-01,  1.1089e-01,  2.1904e-01,\n",
       "        6.6251e-01,  6.6142e-02, -1.6162e-01, -2.4670e-02,  8.4626e-01],\n",
       "      dtype=float32)"
      ]
     },
     "execution_count": 7,
     "metadata": {},
     "output_type": "execute_result"
    }
   ],
   "source": [
    "def max_vectors(words, w2v):\n",
    "    # YOUR CODE HERE\n",
    "    word_vectors = np.array([w2v[a] for a in words])\n",
    "    maxall = []\n",
    "    value = []\n",
    "    for i in range(len(w2v['love'])):\n",
    "        for j in range(len(words)):\n",
    "            value.append(word_vectors[j][i])\n",
    "        maxall.append(np.max(value))\n",
    "        value = []\n",
    "    maxall = np.array(maxall)\n",
    "    return maxall\n",
    "\n",
    "max_vectors(['great', 'wonderful'], w2v)"
   ]
  },
  {
   "cell_type": "code",
   "execution_count": 8,
   "metadata": {
    "deletable": false,
    "editable": false,
    "nbgrader": {
     "cell_type": "code",
     "checksum": "3a2cbc81be791c9ff87304810085d06b",
     "grade": true,
     "grade_id": "max2",
     "locked": true,
     "points": 1,
     "schema_version": 3,
     "solution": false,
     "task": false
    }
   },
   "outputs": [],
   "source": [
    "assert round(max_vectors(['great', 'wonderful'], w2v)[0].item(), 2) == .24\n",
    "assert round(max_vectors(['great', 'wonderful'], w2v)[1].item(), 2) == 1.34\n",
    "assert max_vectors(['great', 'wonderful'], w2v).shape[0] == 50"
   ]
  },
  {
   "cell_type": "code",
   "execution_count": 9,
   "metadata": {
    "deletable": false,
    "nbgrader": {
     "cell_type": "code",
     "checksum": "2a851ef31e1e33d64170e3c858fc7dfe",
     "grade": false,
     "grade_id": "min",
     "locked": false,
     "schema_version": 3,
     "solution": true,
     "task": false
    }
   },
   "outputs": [
    {
     "data": {
      "text/plain": [
       "array([-0.026567,  0.9132  , -1.2008  , -0.3729  ,  0.52012 , -0.12699 ,\n",
       "       -0.46928 , -0.16064 , -0.29716 ,  0.093894, -0.58227 ,  0.49887 ,\n",
       "       -0.14023 , -0.63299 ,  0.020801, -0.24932 ,  0.63965 ,  0.47654 ,\n",
       "       -1.0039  , -0.69284 , -0.36325 , -0.004757, -0.5148  , -0.4626  ,\n",
       "        1.2447  , -1.8316  , -1.5581  , -0.37465 ,  0.53362 , -0.55959 ,\n",
       "        2.0021  ,  0.54034 , -0.080539, -0.17657 , -0.024164,  0.33786 ,\n",
       "       -0.419   ,  0.40081 , -0.11449 , -0.58077 , -0.15205 ,  0.095888,\n",
       "       -0.44052 , -0.18709 , -0.24633 ,  0.57694 , -0.26949 , -0.49658 ,\n",
       "       -0.41618 , -0.2549  ], dtype=float32)"
      ]
     },
     "execution_count": 9,
     "metadata": {},
     "output_type": "execute_result"
    }
   ],
   "source": [
    "def min_vectors(words, w2v):\n",
    "    # YOUR CODE HERE\n",
    "    word_vectors = np.array([w2v[a] for a in words])\n",
    "    minall = []\n",
    "    value = []\n",
    "    for i in range(len(w2v['love'])):\n",
    "        for j in range(len(words)):\n",
    "            value.append(word_vectors[j][i])\n",
    "        minall.append(np.min(value))\n",
    "        value = []\n",
    "    minall = np.array(minall)\n",
    "    return minall\n",
    "\n",
    "min_vectors(['great', 'wonderful'], w2v)"
   ]
  },
  {
   "cell_type": "code",
   "execution_count": 10,
   "metadata": {
    "deletable": false,
    "editable": false,
    "nbgrader": {
     "cell_type": "code",
     "checksum": "fc835e4bf64dd6d6b126446afa8ed211",
     "grade": true,
     "grade_id": "min2",
     "locked": true,
     "points": 1,
     "schema_version": 3,
     "solution": false,
     "task": false
    }
   },
   "outputs": [],
   "source": [
    "assert round(min_vectors(['great', 'wonderful'], w2v)[0].item(), 2) == -.03\n",
    "assert round(min_vectors(['great', 'wonderful'], w2v)[1].item(), 2) == .91\n",
    "assert min_vectors(['great', 'wonderful'], w2v).shape[0] == 50"
   ]
  },
  {
   "cell_type": "code",
   "execution_count": 11,
   "metadata": {
    "deletable": false,
    "nbgrader": {
     "cell_type": "code",
     "checksum": "0f2b6849b1c3119385494cc346386470",
     "grade": false,
     "grade_id": "minmax",
     "locked": false,
     "schema_version": 3,
     "solution": true,
     "task": false
    }
   },
   "outputs": [
    {
     "data": {
      "text/plain": [
       "array([-2.6567e-02,  9.1320e-01, -1.2008e+00, -3.7290e-01,  5.2012e-01,\n",
       "       -1.2699e-01, -4.6928e-01, -1.6064e-01, -2.9716e-01,  9.3894e-02,\n",
       "       -5.8227e-01,  4.9887e-01, -1.4023e-01, -6.3299e-01,  2.0801e-02,\n",
       "       -2.4932e-01,  6.3965e-01,  4.7654e-01, -1.0039e+00, -6.9284e-01,\n",
       "       -3.6325e-01, -4.7570e-03, -5.1480e-01, -4.6260e-01,  1.2447e+00,\n",
       "       -1.8316e+00, -1.5581e+00, -3.7465e-01,  5.3362e-01, -5.5959e-01,\n",
       "        2.0021e+00,  5.4034e-01, -8.0539e-02, -1.7657e-01, -2.4164e-02,\n",
       "        3.3786e-01, -4.1900e-01,  4.0081e-01, -1.1449e-01, -5.8077e-01,\n",
       "       -1.5205e-01,  9.5888e-02, -4.4052e-01, -1.8709e-01, -2.4633e-01,\n",
       "        5.7694e-01, -2.6949e-01, -4.9658e-01, -4.1618e-01, -2.5490e-01,\n",
       "        2.3533e-01,  1.3357e+00, -1.0280e+00,  6.5595e-03,  1.2843e+00,\n",
       "       -1.0495e-01, -3.5433e-01,  3.7824e-01, -2.3046e-03,  8.8219e-01,\n",
       "       -3.4122e-02,  9.2961e-01,  2.8537e-01,  2.1317e-02,  7.0205e-01,\n",
       "       -2.1533e-01,  9.6923e-01,  6.8058e-01, -9.6489e-02, -2.4013e-01,\n",
       "       -1.4633e-01,  1.1343e+00, -1.5865e-01, -3.4477e-02,  1.4644e+00,\n",
       "       -4.6223e-01, -1.3821e+00,  4.5211e-01,  9.9220e-01,  2.0883e-01,\n",
       "        3.2209e+00,  6.4549e-01,  3.7438e-01, -2.1476e-02,  2.6856e-02,\n",
       "        4.2905e-01, -1.1890e-01,  6.9764e-01, -2.9882e-02,  5.1232e-02,\n",
       "        2.0491e-01,  2.9855e-01, -3.9682e-01,  1.1089e-01,  2.1904e-01,\n",
       "        6.6251e-01,  6.6142e-02, -1.6162e-01, -2.4670e-02,  8.4626e-01],\n",
       "      dtype=float32)"
      ]
     },
     "execution_count": 11,
     "metadata": {},
     "output_type": "execute_result"
    }
   ],
   "source": [
    "def min_max_vectors(words, w2v):\n",
    "    # YOUR CODE HERE\n",
    "    word_vectors = np.array([w2v[a] for a in words])\n",
    "    maxall = []\n",
    "    minall = []\n",
    "    value = []\n",
    "    for i in range(len(w2v['love'])):\n",
    "        for j in range(len(words)):\n",
    "            value.append(word_vectors[j][i])\n",
    "        minall.append(np.min(value))    \n",
    "        maxall.append(np.max(value))\n",
    "        value = []\n",
    "    minall = np.array(minall)\n",
    "    maxall = np.array(maxall)\n",
    "    con = np.concatenate((minall,maxall))\n",
    "    return con\n",
    "\n",
    "min_max_vectors(['great', 'wonderful'], w2v)"
   ]
  },
  {
   "cell_type": "code",
   "execution_count": 12,
   "metadata": {
    "deletable": false,
    "editable": false,
    "nbgrader": {
     "cell_type": "code",
     "checksum": "d042928ad6d5dfcd3857568d19bcf24e",
     "grade": true,
     "grade_id": "minmax2",
     "locked": true,
     "points": 1,
     "schema_version": 3,
     "solution": false,
     "task": false
    }
   },
   "outputs": [],
   "source": [
    "assert round(min_max_vectors(['great', 'wonderful'], w2v)[0].item(), 2) == -.03\n",
    "assert round(min_max_vectors(['great', 'wonderful'], w2v)[1].item(), 2) == .91\n",
    "assert min_max_vectors(['great', 'wonderful'], w2v).shape[0] == 100"
   ]
  },
  {
   "cell_type": "markdown",
   "metadata": {},
   "source": [
    "Next, let's read in the movie review data from HW1 and make a bag-of-words feature matrix."
   ]
  },
  {
   "cell_type": "code",
   "execution_count": 13,
   "metadata": {},
   "outputs": [
    {
     "data": {
      "text/html": [
       "<div>\n",
       "<style scoped>\n",
       "    .dataframe tbody tr th:only-of-type {\n",
       "        vertical-align: middle;\n",
       "    }\n",
       "\n",
       "    .dataframe tbody tr th {\n",
       "        vertical-align: top;\n",
       "    }\n",
       "\n",
       "    .dataframe thead th {\n",
       "        text-align: right;\n",
       "    }\n",
       "</style>\n",
       "<table border=\"1\" class=\"dataframe\">\n",
       "  <thead>\n",
       "    <tr style=\"text-align: right;\">\n",
       "      <th></th>\n",
       "      <th>label</th>\n",
       "      <th>text</th>\n",
       "    </tr>\n",
       "  </thead>\n",
       "  <tbody>\n",
       "    <tr>\n",
       "      <th>0</th>\n",
       "      <td>pos</td>\n",
       "      <td>Here's another movie that should be loaded into a satellite, fired into space and pointed in the...</td>\n",
       "    </tr>\n",
       "    <tr>\n",
       "      <th>1</th>\n",
       "      <td>pos</td>\n",
       "      <td>Cuban Blood is one of those sleeper films that has a lot to say about life in a very traditional...</td>\n",
       "    </tr>\n",
       "    <tr>\n",
       "      <th>2</th>\n",
       "      <td>pos</td>\n",
       "      <td>This is not \"so bad that it is good,\" it is purely good! For those who don't understand why, you...</td>\n",
       "    </tr>\n",
       "    <tr>\n",
       "      <th>3</th>\n",
       "      <td>pos</td>\n",
       "      <td>Both visually and musically stunning. A treat for both the eye and the ear. The quintessential V...</td>\n",
       "    </tr>\n",
       "    <tr>\n",
       "      <th>4</th>\n",
       "      <td>pos</td>\n",
       "      <td>'Cry Freedom' is a movie about how far people will go to find the truth.&lt;br /&gt;&lt;br /&gt;The first ha...</td>\n",
       "    </tr>\n",
       "  </tbody>\n",
       "</table>\n",
       "</div>"
      ],
      "text/plain": [
       "  label  \\\n",
       "0   pos   \n",
       "1   pos   \n",
       "2   pos   \n",
       "3   pos   \n",
       "4   pos   \n",
       "\n",
       "                                                                                                  text  \n",
       "0  Here's another movie that should be loaded into a satellite, fired into space and pointed in the...  \n",
       "1  Cuban Blood is one of those sleeper films that has a lot to say about life in a very traditional...  \n",
       "2  This is not \"so bad that it is good,\" it is purely good! For those who don't understand why, you...  \n",
       "3  Both visually and musically stunning. A treat for both the eye and the ear. The quintessential V...  \n",
       "4  'Cry Freedom' is a movie about how far people will go to find the truth.<br /><br />The first ha...  "
      ]
     },
     "execution_count": 13,
     "metadata": {},
     "output_type": "execute_result"
    }
   ],
   "source": [
    "train_df = pd.read_csv('train.tsv', sep='\\t')\n",
    "test_df = pd.read_csv('test.tsv', sep='\\t')\n",
    "train_df.head(5)"
   ]
  },
  {
   "cell_type": "code",
   "execution_count": 14,
   "metadata": {},
   "outputs": [
    {
     "name": "stdout",
     "output_type": "stream",
     "text": [
      "training matrix shape (400, 2069) testing matrix shape (400, 2069)\n",
      "training label distribution Counter({'pos': 200, 'neg': 200})\n",
      "testing label distribution Counter({'pos': 200, 'neg': 200})\n"
     ]
    }
   ],
   "source": [
    "# make bag-of-words feature matrix for train and test, using default tokenization.\n",
    "# we remove a few terms that are not in the w2v model\n",
    "vec = CountVectorizer(max_df=100, min_df=4, binary=True,\n",
    "                      stop_words=['00am', 'hadn', 'parolini', 'virtzer', 'yelli'])\n",
    "X_train = vec.fit_transform(train_df.text)\n",
    "#print(X_train)\n",
    "#print(X_train[0].indices)\n",
    "X_test = vec.transform(test_df.text)\n",
    "print('training matrix shape', X_train.shape, 'testing matrix shape', X_test.shape)\n",
    "y_train = train_df.label\n",
    "y_test = test_df.label\n",
    "print('training label distribution', Counter(y_train))\n",
    "print('testing label distribution', Counter(y_test))\n",
    "vocab = np.array(vec.get_feature_names())\n",
    "#print(len(train_df))\n",
    "#print(X_train.shape[0])"
   ]
  },
  {
   "cell_type": "markdown",
   "metadata": {},
   "source": [
    "Next, we'll write a function that takes in a bag-of-words matrix and returns one that uses word vectors.\n",
    "Note that we'll pass in the type of aggregation function as a variable to this function. A few tips:\n",
    "\n",
    "- `vocab` is a numpy array containing the unique terms in the vocabulary\n",
    "- Recall that `X` is a [csr_matrix](https://docs.scipy.org/doc/scipy/reference/generated/scipy.sparse.csr_matrix.html). `X[i].indices` will give the indices for words contained in document i. These indices align with the order of terms in `vocab`.\n",
    "- So, you can iterate over each document, identify the terms in each document, then collect their word vectors and aggregate by using `aggregation_fn`.\n",
    "- The returned value should be a two-dimensional numpy array, where each row is a document and each column is a dimension of the aggregated word embeddings."
   ]
  },
  {
   "cell_type": "code",
   "execution_count": 15,
   "metadata": {
    "deletable": false,
    "nbgrader": {
     "cell_type": "code",
     "checksum": "dc4c85aef4c56f24b5d3bc7a9d49820c",
     "grade": false,
     "grade_id": "featurize",
     "locked": false,
     "schema_version": 3,
     "solution": true,
     "task": false
    }
   },
   "outputs": [
    {
     "data": {
      "text/plain": [
       "array([ 0.21111901,  0.09722338, -0.04589759, -0.19007003,  0.3527976 ,\n",
       "        0.13560537, -0.32095036, -0.04145774, -0.16631462,  0.15858248,\n",
       "       -0.15997647,  0.08090216, -0.27579018,  0.08924071,  0.49825385,\n",
       "        0.04604268,  0.16236083,  0.05402371, -0.33130682, -0.38498956,\n",
       "       -0.0384452 ,  0.33487058,  0.17044222,  0.0860541 ,  0.34108111,\n",
       "       -1.33641851, -0.46561581,  0.09500529,  0.43425399, -0.27843538,\n",
       "        2.66227794,  0.2764076 , -0.12888813, -0.29127657, -0.0231238 ,\n",
       "        0.12369249, -0.00536567,  0.06990951, -0.13418336, -0.31845108,\n",
       "       -0.16431893,  0.15570083,  0.04516141,  0.13843751,  0.05441127,\n",
       "        0.06075109, -0.02255547, -0.15301195, -0.03517218,  0.08741646])"
      ]
     },
     "execution_count": 15,
     "metadata": {},
     "output_type": "execute_result"
    }
   ],
   "source": [
    "def make_word_vector_features(X, vocab, w2v, aggregation_fn):\n",
    "    \"\"\"\n",
    "    a numpy.ndarray with n rows and d columns, where n is the number of documents\n",
    "    in X and d is the word vector dimension resulting from aggregation_fn\n",
    "    \"\"\"\n",
    "    # YOUR CODE HERE\n",
    "    matrix = np.zeros((X.shape[0], len(aggregation_fn('love', w2v))))\n",
    "    for i in range(X.shape[0]):\n",
    "        voca_indices = X[i].indices\n",
    "        words = [vocab[j] for j in voca_indices]\n",
    "        matrix[i] = aggregation_fn(words, w2v)\n",
    "    return matrix\n",
    "            \n",
    "X_train_avg = make_word_vector_features(X_train, vocab, w2v, average_vectors)\n",
    "X_test_avg = make_word_vector_features(X_test, vocab, w2v, average_vectors)\n",
    "\n",
    "X_train_avg[0]"
   ]
  },
  {
   "cell_type": "code",
   "execution_count": 16,
   "metadata": {
    "deletable": false,
    "editable": false,
    "nbgrader": {
     "cell_type": "code",
     "checksum": "af8d3f441e9f02523b6f6b162bfd1970",
     "grade": true,
     "grade_id": "cell-4d7819fc4be35413",
     "locked": true,
     "points": 2,
     "schema_version": 3,
     "solution": false,
     "task": false
    }
   },
   "outputs": [],
   "source": [
    "assert round(float(X_train_avg[0][0]), 2) == 0.21\n",
    "assert round(float(X_train_avg[0][1]), 2) == 0.10"
   ]
  },
  {
   "cell_type": "markdown",
   "metadata": {},
   "source": [
    "Finally, we'll fit a LogisticRegression classifier on top of these embeddings to get our final predictions."
   ]
  },
  {
   "cell_type": "code",
   "execution_count": 17,
   "metadata": {},
   "outputs": [
    {
     "name": "stdout",
     "output_type": "stream",
     "text": [
      "              precision    recall  f1-score   support\n",
      "\n",
      "         neg       0.80      0.78      0.79       200\n",
      "         pos       0.78      0.81      0.79       200\n",
      "\n",
      "    accuracy                           0.79       400\n",
      "   macro avg       0.79      0.79      0.79       400\n",
      "weighted avg       0.79      0.79      0.79       400\n",
      "\n"
     ]
    },
    {
     "data": {
      "text/plain": [
       "LogisticRegression(max_iter=1000)"
      ]
     },
     "execution_count": 17,
     "metadata": {},
     "output_type": "execute_result"
    }
   ],
   "source": [
    "def test_lr(X_train, y_train, X_test, y_test):\n",
    "    \"\"\"\n",
    "    fit a logistic regression classifier and report\n",
    "    accuracy on the testing data.\n",
    "    \"\"\"\n",
    "    lr = LogisticRegression(max_iter=1000)\n",
    "    lr.fit(X_train, train_df.label)\n",
    "    y_pred_lr = lr.predict(X_test)\n",
    "    print(classification_report(test_df.label, y_pred_lr))\n",
    "    return lr\n",
    "\n",
    "# here is the accuracy on the original bag-of-words representation\n",
    "test_lr(X_train, y_train, X_test, y_test)"
   ]
  },
  {
   "cell_type": "code",
   "execution_count": 18,
   "metadata": {},
   "outputs": [
    {
     "name": "stdout",
     "output_type": "stream",
     "text": [
      "average_vectors\n",
      "              precision    recall  f1-score   support\n",
      "\n",
      "         neg       0.75      0.74      0.75       200\n",
      "         pos       0.75      0.76      0.75       200\n",
      "\n",
      "    accuracy                           0.75       400\n",
      "   macro avg       0.75      0.75      0.75       400\n",
      "weighted avg       0.75      0.75      0.75       400\n",
      "\n",
      "min_vectors\n",
      "              precision    recall  f1-score   support\n",
      "\n",
      "         neg       0.60      0.63      0.62       200\n",
      "         pos       0.61      0.58      0.60       200\n",
      "\n",
      "    accuracy                           0.61       400\n",
      "   macro avg       0.61      0.61      0.61       400\n",
      "weighted avg       0.61      0.61      0.61       400\n",
      "\n",
      "max_vectors\n",
      "              precision    recall  f1-score   support\n",
      "\n",
      "         neg       0.69      0.66      0.67       200\n",
      "         pos       0.67      0.70      0.69       200\n",
      "\n",
      "    accuracy                           0.68       400\n",
      "   macro avg       0.68      0.68      0.68       400\n",
      "weighted avg       0.68      0.68      0.68       400\n",
      "\n",
      "min_max_vectors\n",
      "              precision    recall  f1-score   support\n",
      "\n",
      "         neg       0.67      0.66      0.66       200\n",
      "         pos       0.66      0.68      0.67       200\n",
      "\n",
      "    accuracy                           0.67       400\n",
      "   macro avg       0.67      0.67      0.67       400\n",
      "weighted avg       0.67      0.67      0.67       400\n",
      "\n"
     ]
    }
   ],
   "source": [
    "# loop over all four aggreagation functions and report acccuracy.\n",
    "for agg_fn in [average_vectors, min_vectors, max_vectors, min_max_vectors]:\n",
    "    print(agg_fn.__name__)\n",
    "    X_train_i = make_word_vector_features(X_train, vocab, w2v, agg_fn)\n",
    "    X_test_i = make_word_vector_features(X_test, vocab, w2v, agg_fn)\n",
    "    test_lr(X_train_i, y_train, X_test_i, y_test)"
   ]
  },
  {
   "cell_type": "markdown",
   "metadata": {},
   "source": [
    "Oof, that's a lot of work to have worse accuracy than the simple bag-of-words model! Unfortunately, it's not uncommon for this approach to not improve accuracy much for simple document classification tasks. What are possible reasons for this? What could you do to try to find evidence for one of these potential hypotheses? Enter your answer below."
   ]
  },
  {
   "cell_type": "markdown",
   "metadata": {
    "deletable": false,
    "nbgrader": {
     "cell_type": "markdown",
     "checksum": "2caa660884da36cc72fa2e98d4237435",
     "grade": true,
     "grade_id": "explain_bad_vectors",
     "locked": false,
     "points": 3,
     "schema_version": 3,
     "solution": true,
     "task": false
    }
   },
   "source": [
    "For simple bag-of-words model, we just use embedding method but the logistic regression classifer doesn't have the optimal hyperparameter. We could tune the hyperparameter, and if the accuracy can be improved, which would show our potential hypothesis is right.\n",
    "\n",
    "In addition, since the document is simple, some features of unique words cannot be well captured by the embedding method. We can find the unique words and add more related words to see whether the embedding method can improve the accuracy. If it can improve, our hypothesis is right."
   ]
  },
  {
   "cell_type": "markdown",
   "metadata": {},
   "source": [
    "### Intepreting word vector models\n",
    "\n",
    "In HW1, we could simply look at the top coefficients of the logistic regression model to try to understand what the model has learned. That won't work here, since a large coefficient for \"vector dimension 12\" doesn't tell us much, since we don't know what dimension 12 means.\n",
    "\n",
    "There are a number of ways to make sense of this. A simple one is the following:\n",
    "- Embed each word in the vocabulary.\n",
    "- Use the classifier to predict the class probabilities for a document containing that single word.\n",
    "- We can then use these probabilities as a way to identify terms that the classifier thinks correlate with each class.\n",
    "\n",
    "Let's start by fitting a classifier again using the average embeddings."
   ]
  },
  {
   "cell_type": "code",
   "execution_count": 19,
   "metadata": {},
   "outputs": [
    {
     "name": "stdout",
     "output_type": "stream",
     "text": [
      "              precision    recall  f1-score   support\n",
      "\n",
      "         neg       0.75      0.74      0.75       200\n",
      "         pos       0.75      0.76      0.75       200\n",
      "\n",
      "    accuracy                           0.75       400\n",
      "   macro avg       0.75      0.75      0.75       400\n",
      "weighted avg       0.75      0.75      0.75       400\n",
      "\n"
     ]
    }
   ],
   "source": [
    "X_train_avg = make_word_vector_features(X_train, vocab, w2v, average_vectors)\n",
    "X_test_avg = make_word_vector_features(X_test, vocab, w2v, average_vectors)\n",
    "lr = test_lr(X_train_avg, y_train, X_test_avg, y_test)"
   ]
  },
  {
   "cell_type": "markdown",
   "metadata": {},
   "source": [
    "Now, let's embed each word in the vocabulary for later use.\n",
    "\n",
    "The function below creates a matrix where each row is a word in the vocabulary, and the columns represent its word embedding."
   ]
  },
  {
   "cell_type": "code",
   "execution_count": 20,
   "metadata": {},
   "outputs": [
    {
     "name": "stdout",
     "output_type": "stream",
     "text": [
      "[ 2.5581e-01  4.7584e-01  1.7321e+00 -5.8802e-01  1.5441e-01 -5.8223e-01\n",
      "  3.5984e-01 -7.6233e-01  5.9102e-02 -2.4452e-01 -1.2084e-01 -1.1808e+00\n",
      "  1.3921e+00 -1.0531e+00  1.2464e+00 -1.2706e+00  5.4966e-02  9.2917e-01\n",
      " -6.7983e-01  2.7904e-04  2.0821e-01 -2.8121e-01  1.2211e+00  3.6001e-01\n",
      " -6.4722e-02  1.0667e+00  3.6614e-01 -1.0744e+00 -4.7448e-01  1.8174e-01\n",
      "  1.9686e+00  2.1275e-01  3.2139e-01  8.3837e-01 -1.8424e-02  3.9793e-01\n",
      "  7.0261e-01 -3.2458e-01 -6.5634e-02  2.5243e-01  4.7815e-01 -4.4088e-01\n",
      "  1.4213e+00 -1.8419e-01 -1.6428e-01  4.3174e-02 -5.3504e-01  1.4311e-01\n",
      " -5.2037e-01 -4.1152e-01]\n"
     ]
    },
    {
     "data": {
      "text/plain": [
       "(2069, 50)"
      ]
     },
     "execution_count": 20,
     "metadata": {},
     "output_type": "execute_result"
    }
   ],
   "source": [
    "def embed_words(words, w2v):\n",
    "    return np.vstack([w2v[w] for w in words])\n",
    "#print(vocab_embedding)\n",
    "vocab_embedding = embed_words(vocab, w2v)\n",
    "print(vocab_embedding[0])\n",
    "vocab_embedding.shape"
   ]
  },
  {
   "cell_type": "markdown",
   "metadata": {},
   "source": [
    "We can now classify each word in `vocab_embedding` to get the probability of the a document containing this single word of being in the positive class. You'll have to use the `predict_proba` method of [LogisticRegression](https://scikit-learn.org/stable/modules/generated/sklearn.linear_model.LogisticRegression.html)."
   ]
  },
  {
   "cell_type": "code",
   "execution_count": 21,
   "metadata": {
    "deletable": false,
    "nbgrader": {
     "cell_type": "code",
     "checksum": "127a6a44345663f2706ba93594d79f9a",
     "grade": false,
     "grade_id": "posprob",
     "locked": false,
     "schema_version": 3,
     "solution": true,
     "task": false
    }
   },
   "outputs": [
    {
     "data": {
      "text/plain": [
       "array([6.76999437e-01, 9.09829043e-01, 9.82269552e-01, ...,\n",
       "       3.35079256e-02, 6.88659269e-04, 6.46435513e-03])"
      ]
     },
     "execution_count": 21,
     "metadata": {},
     "output_type": "execute_result"
    }
   ],
   "source": [
    "def get_probability_of_positive_class(vocab_embedding, lr):\n",
    "    # YOUR CODE HERE\n",
    "    proall = lr.predict_proba(vocab_embedding)\n",
    "    posi = np.delete(proall,0,axis = 1)\n",
    "    posi = posi.reshape(1, -1)\n",
    "    return posi[0]\n",
    "    \n",
    "    \n",
    "\n",
    "get_probability_of_positive_class(vocab_embedding, lr)"
   ]
  },
  {
   "cell_type": "code",
   "execution_count": 22,
   "metadata": {
    "deletable": false,
    "editable": false,
    "nbgrader": {
     "cell_type": "code",
     "checksum": "97d31405a0a19f7846938dffa558d734",
     "grade": true,
     "grade_id": "posprob2",
     "locked": true,
     "points": 2,
     "schema_version": 3,
     "solution": false,
     "task": false
    }
   },
   "outputs": [],
   "source": [
    "assert round(get_probability_of_positive_class(vocab_embedding, lr)[0], 2) == .68"
   ]
  },
  {
   "cell_type": "markdown",
   "metadata": {},
   "source": [
    "Now, we can print the top words for each class using the above function."
   ]
  },
  {
   "cell_type": "code",
   "execution_count": 23,
   "metadata": {},
   "outputs": [
    {
     "name": "stdout",
     "output_type": "stream",
     "text": [
      "positive terms\n",
      "        contemporary\t0.9999522170\n",
      "               world\t0.9999487719\n",
      "               music\t0.9999469197\n",
      "           spiritual\t0.9999390562\n",
      "                tour\t0.9999237836\n",
      "               title\t0.9999177535\n",
      "             african\t0.9998881703\n",
      "                 won\t0.9998783193\n",
      "               event\t0.9998695946\n",
      "              spirit\t0.9998441475\n",
      "               games\t0.9998383092\n",
      "             classic\t0.9998316696\n",
      "           adventure\t0.9998193070\n",
      "            festival\t0.9998158315\n",
      "              unique\t0.9998153543\n",
      "                 art\t0.9998043114\n",
      "            showcase\t0.9997883817\n",
      "              events\t0.9997839218\n",
      "            classics\t0.9997829857\n",
      "                star\t0.9997819165\n",
      "\n",
      "negative terms\n",
      "             rubbish\t0.0000006594\n",
      "             garbage\t0.0000015033\n",
      "               trash\t0.0000046494\n",
      "               waste\t0.0000054503\n",
      "              rotten\t0.0000054889\n",
      "              sucked\t0.0000076185\n",
      "                mess\t0.0000108235\n",
      "               dirty\t0.0000154802\n",
      "                 jaw\t0.0000233289\n",
      "                 rip\t0.0000257411\n",
      "              stupid\t0.0000269751\n",
      "                crap\t0.0000299391\n",
      "                cuts\t0.0000305372\n",
      "               blame\t0.0000392527\n",
      "          irritating\t0.0000413057\n",
      "             spoiler\t0.0000420236\n",
      "             unfunny\t0.0000435603\n",
      "                 die\t0.0000490777\n",
      "                skin\t0.0000501562\n",
      "               mouth\t0.0000505064\n"
     ]
    }
   ],
   "source": [
    "def get_top_words(lr, vocab_embeddings, vocab, topn=10):\n",
    "    theta = lr.predict_proba(vocab_embedding)[:,1]\n",
    "    ret = []\n",
    "    print('positive terms')\n",
    "    for i in np.argsort(theta)[::-1][:topn]:\n",
    "        print('%20s\\t%.10f' % (vocab[i], theta[i]))\n",
    "        ret.append(vocab[i])\n",
    "    print()\n",
    "    print('negative terms')\n",
    "    for i in np.argsort(theta)[:topn]:\n",
    "        print('%20s\\t%.10f' % (vocab[i], theta[i]))\n",
    "        ret.append(vocab[i])\n",
    "    return ret\n",
    "top_words = get_top_words(lr, vocab_embedding, vocab, topn=20)"
   ]
  },
  {
   "cell_type": "markdown",
   "metadata": {},
   "source": [
    "Looking back at HW1 and the top terms we found with logistic regression, how do these top terms compare? Does one look better or worse? Why? "
   ]
  },
  {
   "cell_type": "markdown",
   "metadata": {
    "deletable": false,
    "nbgrader": {
     "cell_type": "markdown",
     "checksum": "506b24cd796a3973983fb03ad4fbb906",
     "grade": true,
     "grade_id": "topterms",
     "locked": false,
     "points": 3,
     "schema_version": 3,
     "solution": true,
     "task": false
    }
   },
   "source": [
    "These top terms are very different compared with HW1. This one looks worse. Because in HW1 the coefficient can be digged in the original data to figure out some reasons why the word belongs to the class label. However, here some words rarely appear in some label document, for example, \"contemporary\" is in the positive. But less number of occurrences does not necessarily mean that word belongs to this label, because smallest number of occurrences cannot give us so much convinced experience."
   ]
  },
  {
   "cell_type": "markdown",
   "metadata": {},
   "source": [
    "<br><br><br><br><br>\n",
    "\n",
    "## Part II: Sequence Models\n",
    "\n",
    "Next, we'll turn to HMMs and RNNs for the task of part-of-speech tagging. \n",
    "\n",
    "Here is a simple class to store the main data structures we'll need."
   ]
  },
  {
   "cell_type": "code",
   "execution_count": 24,
   "metadata": {},
   "outputs": [],
   "source": [
    "class HMM:\n",
    "    def __init__(self, states, vocab, smoothing=0):\n",
    "        self.states = states\n",
    "        self.vocab = vocab\n",
    "        self.smoothing = smoothing\n",
    "        # we'll set these below.\n",
    "        self.transition_probas = None\n",
    "        self.emission_probas = None\n",
    "        self.start_probas = None"
   ]
  },
  {
   "cell_type": "markdown",
   "metadata": {},
   "source": [
    "Assume we have some training data of sentences and their corresponding part-of-speech tags:\n"
   ]
  },
  {
   "cell_type": "code",
   "execution_count": 25,
   "metadata": {},
   "outputs": [],
   "source": [
    "sentences_small = [\n",
    "                    ['the', 'boy', 'jumped'],\n",
    "                    ['the', 'dog', 'jumped'],\n",
    "                    ['jump', 'dog'],\n",
    "                    ['the', 'ball', 'boy', 'ran']\n",
    "                  ]\n",
    "\n",
    "tags_small = [\n",
    "                ['D', 'N', 'V'],\n",
    "                ['D', 'N', 'V'],\n",
    "                ['V', 'N'],\n",
    "                ['D', 'N', 'N', 'V']\n",
    "            ]\n",
    "\n",
    "states_small = ['D', 'N', 'V']\n",
    "vocab_small =['ball', 'boy', 'dog', 'jump', 'jumped', 'ran', 'the']"
   ]
  },
  {
   "cell_type": "markdown",
   "metadata": {},
   "source": [
    "### transition probabilities\n",
    "\n",
    "First, let's implement a function to fit the transition probabilities. We'll use the add-$k$ smoothed estimates from [lecture](http://cs.tulane.edu/~aculotta/nlp/sequence/hmm2.html). To store the probabilities, we'll use a \"dict of dicts\", like:\n",
    "\n",
    "```\n",
    "{'D': {'D': 0.0, 'N': 1.0, 'V': 0.0},\n",
    " 'N': {'D': 0.0, 'N': 0.25, 'V': 0.75},\n",
    " 'V': {'D': 0.0, 'N': 1.0, 'V': 0.0}}\n",
    "```\n",
    "\n",
    "In this example, the probability of a transition from `N->V` is 0.75.\n",
    "\n",
    "Complete the function below and test your implementation. Note that transitions should appear in the result even if they are not seen in the training data. E.g., above there is a 0 probability transition from D->D. When smoothing is used, this will be non-zero.\n",
    "\n",
    "(If your object-oriented design aesthetics are offended that `fit_transition_probas` is not a method of the HMM class, then they are well-tuned. We are doing it this way solely for ease of testing.)"
   ]
  },
  {
   "cell_type": "code",
   "execution_count": 26,
   "metadata": {
    "deletable": false,
    "nbgrader": {
     "cell_type": "code",
     "checksum": "c9ce671babc3184a70709310f6357476",
     "grade": false,
     "grade_id": "transition",
     "locked": false,
     "schema_version": 3,
     "solution": true,
     "task": false
    }
   },
   "outputs": [],
   "source": [
    "def fit_transition_probas(hmm, tags):\n",
    "    \"\"\"\n",
    "    Given an HMM and a dataset, return the transition probabilities between each pair of states.\n",
    "    \n",
    "    Params:\n",
    "      hmm.....an HMM\n",
    "      tags....a list of list of strings representing the POS tags for a list of sentences.\n",
    "    \"\"\"\n",
    "    # YOUR CODE HERE\n",
    "    frequency = []\n",
    "    for ta in hmm.states:\n",
    "        summ = 0\n",
    "        for j in range(len(tags)):\n",
    "            for i in tags[j][:-1]:\n",
    "                if i == ta:\n",
    "                    summ += 1\n",
    "        frequency.append(summ)\n",
    "    #print(frequency)\n",
    "    dictt = {}\n",
    "    #for lll in range(len(hmm.states)):\n",
    "    for lll in hmm.states:\n",
    "        dictt[lll] = {el:0 for el in hmm.states}\n",
    "    #print(dictt)\n",
    "    #print(dictt[0])\n",
    "    for jj in range(len(tags)):\n",
    "        for ii in range(len(tags[jj])-1):\n",
    "            for tat in hmm.states:\n",
    "                if tags[jj][ii] == tat:\n",
    "                    #dictt[hmm.states.index(tat)][tags[jj][ii+1]] += 1\n",
    "                    dictt[tat][tags[jj][ii+1]] += 1\n",
    "    #print(dictt)\n",
    "    for tat in hmm.states:\n",
    "        for kk in hmm.states:\n",
    "            dictt[tat][kk] = (dictt[tat][kk]+hmm.smoothing)/(frequency[hmm.states.index(tat)]+len(hmm.states)*hmm.smoothing) \n",
    "    return dictt"
   ]
  },
  {
   "cell_type": "code",
   "execution_count": 27,
   "metadata": {
    "deletable": false,
    "editable": false,
    "nbgrader": {
     "cell_type": "code",
     "checksum": "48da80367b1c4b9d91a5242c005da39b",
     "grade": true,
     "grade_id": "transition1",
     "locked": true,
     "points": 3,
     "schema_version": 3,
     "solution": false,
     "task": false
    }
   },
   "outputs": [
    {
     "data": {
      "text/plain": [
       "{'D': {'D': 0.0, 'N': 1.0, 'V': 0.0},\n",
       " 'N': {'D': 0.0, 'N': 0.25, 'V': 0.75},\n",
       " 'V': {'D': 0.0, 'N': 1.0, 'V': 0.0}}"
      ]
     },
     "metadata": {},
     "output_type": "display_data"
    }
   ],
   "source": [
    "hmm = HMM(states_small, vocab_small, smoothing=0)\n",
    "hmm.transition_probas = fit_transition_probas(hmm, tags_small)\n",
    "assert 0.750 == round(hmm.transition_probas['N']['V'], 3)\n",
    "assert 0.0 == round(hmm.transition_probas['N']['D'], 1)\n",
    "assert 0.250 == round(hmm.transition_probas['N']['N'], 3)\n",
    "\n",
    "display(dict(hmm.transition_probas))"
   ]
  },
  {
   "cell_type": "code",
   "execution_count": 28,
   "metadata": {
    "deletable": false,
    "editable": false,
    "nbgrader": {
     "cell_type": "code",
     "checksum": "1af6ab17da51fdd049d0311c12fc8758",
     "grade": true,
     "grade_id": "transition2",
     "locked": true,
     "points": 2,
     "schema_version": 3,
     "solution": false,
     "task": false
    }
   },
   "outputs": [],
   "source": [
    "hmm = HMM(states_small, vocab_small, smoothing=1)\n",
    "hmm.transition_probas = fit_transition_probas(hmm, tags_small)\n",
    "assert 0.571 == round(hmm.transition_probas['N']['V'], 3)\n",
    "assert 0.143 == round(hmm.transition_probas['N']['D'], 3)\n",
    "assert 0.286 == round(hmm.transition_probas['N']['N'], 3)"
   ]
  },
  {
   "cell_type": "markdown",
   "metadata": {},
   "source": [
    "### emission probabilities\n",
    "\n",
    "Next, let's fit the emission probabilities."
   ]
  },
  {
   "cell_type": "code",
   "execution_count": 29,
   "metadata": {
    "deletable": false,
    "nbgrader": {
     "cell_type": "code",
     "checksum": "dc7b319d577a4cbf5112b19194151688",
     "grade": false,
     "grade_id": "emissions",
     "locked": false,
     "schema_version": 3,
     "solution": true,
     "task": false
    }
   },
   "outputs": [],
   "source": [
    "def fit_emission_probas(hmm, sentences, tags):\n",
    "    # YOUR CODE HERE\n",
    "    frequency = []\n",
    "    for ta in hmm.states:\n",
    "        summ = 0\n",
    "        for j in range(len(tags)):\n",
    "            for i in tags[j]:\n",
    "                if i == ta:\n",
    "                    summ += 1\n",
    "        frequency.append(summ)\n",
    "    #print(frequency)\n",
    "    dictt = {}\n",
    "    for lll in hmm.states:\n",
    "        dictt[lll] = {el:0 for el in hmm.vocab}\n",
    "    #print(dictt)\n",
    "    for jj in range(len(tags)):\n",
    "        for ii in range(len(tags[jj])):\n",
    "            for tat in hmm.vocab:\n",
    "                if sentences[jj][ii] == tat:\n",
    "                    #dictt[hmm.states.index(tat)][tags[jj][ii+1]] += 1\n",
    "                    dictt[tags[jj][ii]][sentences[jj][ii]] += 1\n",
    "    #print(dictt)\n",
    "    for tat in hmm.states:\n",
    "        for kk in hmm.vocab:\n",
    "            dictt[tat][kk] = (dictt[tat][kk]+hmm.smoothing)/(frequency[hmm.states.index(tat)]+len(hmm.vocab)*hmm.smoothing) \n",
    "    #print(dictt)\n",
    "    return dictt"
   ]
  },
  {
   "cell_type": "code",
   "execution_count": 30,
   "metadata": {
    "deletable": false,
    "editable": false,
    "nbgrader": {
     "cell_type": "code",
     "checksum": "ea3e7a6a97cbf92c9675c00b920ef421",
     "grade": true,
     "grade_id": "emissions1",
     "locked": true,
     "points": 2,
     "schema_version": 3,
     "solution": false,
     "task": false
    }
   },
   "outputs": [],
   "source": [
    "hmm = HMM(states_small, vocab_small, smoothing=0)\n",
    "hmm.emission_probas = fit_emission_probas(hmm, sentences_small, tags_small)\n",
    "assert 0.2 == round(hmm.emission_probas['N']['ball'], 1)\n",
    "assert 0.4 == round(hmm.emission_probas['N']['boy'], 1)\n",
    "assert 0.4 == round(hmm.emission_probas['N']['dog'], 1)\n",
    "assert 0.0 == round(hmm.emission_probas['N']['jump'], 1)\n",
    "assert 0.0 == round(hmm.emission_probas['N']['ran'], 1)"
   ]
  },
  {
   "cell_type": "code",
   "execution_count": 31,
   "metadata": {
    "deletable": false,
    "editable": false,
    "nbgrader": {
     "cell_type": "code",
     "checksum": "6361a7e685626d59d119c6f1fca8ff4f",
     "grade": true,
     "grade_id": "emissions2",
     "locked": true,
     "points": 2,
     "schema_version": 3,
     "solution": false,
     "task": false
    }
   },
   "outputs": [],
   "source": [
    "hmm = HMM(states_small, vocab_small, smoothing=1)\n",
    "hmm.emission_probas = fit_emission_probas(hmm, sentences_small, tags_small)\n",
    "assert 0.4 == round(hmm.emission_probas['D']['the'], 1)\n",
    "assert 0.1 == round(hmm.emission_probas['D']['ball'], 1)\n",
    "assert 0.1 == round(hmm.emission_probas['D']['boy'], 1)\n",
    "assert 0.1 == round(hmm.emission_probas['D']['jump'], 1)"
   ]
  },
  {
   "cell_type": "code",
   "execution_count": null,
   "metadata": {
    "deletable": false,
    "editable": false,
    "nbgrader": {
     "cell_type": "code",
     "checksum": "e58489ba0645775d3a39e4c85910bc85",
     "grade": true,
     "grade_id": "emissions3",
     "locked": true,
     "points": 2,
     "schema_version": 3,
     "solution": false,
     "task": false
    }
   },
   "outputs": [],
   "source": []
  },
  {
   "cell_type": "markdown",
   "metadata": {},
   "source": [
    "### start probabilities\n",
    "\n",
    "The final probabilities we need to estimate is the start probabilities. That is, what is the probability of a tag starting a sentence? (For this assignment, we'll ignore end states.)"
   ]
  },
  {
   "cell_type": "code",
   "execution_count": 32,
   "metadata": {
    "deletable": false,
    "nbgrader": {
     "cell_type": "code",
     "checksum": "1bfaa80c9704e0448719c3036f95d2d0",
     "grade": false,
     "grade_id": "start_probas",
     "locked": false,
     "schema_version": 3,
     "solution": true,
     "task": false
    }
   },
   "outputs": [],
   "source": [
    "def fit_start_probas(hmm, tags):\n",
    "    # YOUR CODE HERE\n",
    "    dictt = {}\n",
    "    for lll in hmm.states:\n",
    "        dictt[lll] = 0\n",
    "    #print(dictt)\n",
    "    for jj in range(len(tags)):\n",
    "        for tat in hmm.states:\n",
    "            if tags[jj][0] == tat:\n",
    "                dictt[tat] += 1\n",
    "    #print(dictt)\n",
    "    for tat in hmm.states:\n",
    "        dictt[tat] = (dictt[tat]+hmm.smoothing)/(len(tags)+len(hmm.states)*hmm.smoothing) \n",
    "    #print(dictt)\n",
    "    return dictt"
   ]
  },
  {
   "cell_type": "code",
   "execution_count": 33,
   "metadata": {
    "deletable": false,
    "editable": false,
    "nbgrader": {
     "cell_type": "code",
     "checksum": "88460dbc605201a577e07db235a8052e",
     "grade": true,
     "grade_id": "start_probas2",
     "locked": true,
     "points": 2,
     "schema_version": 3,
     "solution": false,
     "task": false
    }
   },
   "outputs": [],
   "source": [
    "hmm = HMM(states_small, vocab_small, smoothing=0)\n",
    "hmm.start_probas = fit_start_probas(hmm, tags_small)\n",
    "assert 0.75 == round(hmm.start_probas['D'], 2)\n",
    "assert 0.0 == round(hmm.start_probas['N'], 1)\n",
    "assert 0.25 == round(hmm.start_probas['V'], 2)"
   ]
  },
  {
   "cell_type": "markdown",
   "metadata": {},
   "source": [
    "### Viterbi\n",
    "\n",
    "Now that we can estimate all the HMM parameters, we'll implement Viterbi search.\n",
    "\n",
    "This function will return both the most probable state sequence as well as its probability.\n",
    "\n",
    "See the book for more details. One issue is keeping track of which state was chosen at each step. You can do this with a \"backpointer\" matrix to keep track of the best edges. This is a 2d array just like the lattice used by Viterbi. Cell (i,j) stores for state i at time step j the best preceding state at time j-1. That is, it indicates which edge was taken to reach state i at time j. (See [Figure A.10](https://github.com/tulane-cmps6730/main/blob/main/read/slpA.pdf) from the book.)\n"
   ]
  },
  {
   "cell_type": "code",
   "execution_count": 34,
   "metadata": {
    "deletable": false,
    "nbgrader": {
     "cell_type": "code",
     "checksum": "4219571724d7ea459181c9b7b624172f",
     "grade": false,
     "grade_id": "viterbi",
     "locked": false,
     "schema_version": 3,
     "solution": true,
     "task": false
    }
   },
   "outputs": [],
   "source": [
    "def viterbi(hmm, sentence):\n",
    "    \"\"\"\n",
    "    Perform Viterbi search to identify the most probable set of hidden states for\n",
    "    the provided input sentence.\n",
    "    \n",
    "    Be sure that the runtime of your implementation is O(N^2 * T), where N is\n",
    "    the number of states and T is the number of sentence tokens.\n",
    "    \n",
    "    \n",
    "\n",
    "    Params:\n",
    "      sentence...a lists of strings, representing the tokens in a single sentence.\n",
    "\n",
    "    Returns:\n",
    "      path....a list of strings indicating the most probable path of POS tags for\n",
    "              this sentence.\n",
    "      proba...a float indicating the probability of this path.\n",
    "    \"\"\"\n",
    "    # YOUR CODE HERE\n",
    "    #Cell = np.zeros((len(hmm.states),len(sentence)))\n",
    "    cur_proo = [{}]\n",
    "    path = {}\n",
    "    for state in hmm.states:\n",
    "        cur_proo[0][state] = hmm.start_probas[state] * hmm.emission_probas[state][sentence[0]]\n",
    "        path[state] = [state]\n",
    "\n",
    "    for i in range(1, len(sentence)):\n",
    "        cur_proo.append({})\n",
    "        new_path = {}\n",
    "        for cur_state in hmm.states:\n",
    "                max_pro, last = max(((cur_proo[i-1][last_state]*hmm.transition_probas[last_state][cur_state]*hmm.emission_probas[cur_state][sentence[i]], last_state)for last_state in hmm.states))\n",
    "                cur_proo[i][cur_state] = max_pro\n",
    "                new_path[cur_state] = path[last] + [cur_state]\n",
    "        path = new_path\n",
    "   \n",
    "    max_prob, final_state = max([(cur_proo[len(sentence) - 1][state], state) for state in hmm.states])\n",
    "    #print(cur_proo)\n",
    "    #print(path)\n",
    "    max_path = path[final_state]\n",
    "    #print(max_path)\n",
    "    #print(max_prob)\n",
    "    return max_path, max_prob\n",
    "    "
   ]
  },
  {
   "cell_type": "code",
   "execution_count": 35,
   "metadata": {
    "deletable": false,
    "editable": false,
    "nbgrader": {
     "cell_type": "code",
     "checksum": "e0e388a86a8f49b6bd994d2f5d833175",
     "grade": true,
     "grade_id": "viterbi1",
     "locked": true,
     "points": 6,
     "schema_version": 3,
     "solution": false,
     "task": false
    }
   },
   "outputs": [],
   "source": [
    "\"\"\"\n",
    "To test our implementation, we'll consider the sentence \"time flies like an arrow\".\n",
    "There is ambiguity in the word \"flies\", which could be a noun or verb, as well\n",
    "as the word \"like,\" which could be a preposition or a verb. \n",
    "\"\"\"\n",
    "hmm = HMM(states=['D', 'N', 'P', 'V'],\n",
    "          vocab=['an', 'arrow', 'flies', 'like', 'time'],\n",
    "          smoothing=0)\n",
    "\n",
    "hmm.start_probas = {\n",
    "                    'D': .3,\n",
    "                    'N': .4,\n",
    "                    'P': .1,\n",
    "                    'V': .2,\n",
    "                   }\n",
    "\n",
    "hmm.emission_probas = {\n",
    "                         'D': {'time': 0.0, 'flies': 0.0, 'like': 0.0, 'an': 1.0, 'arrow': 0.0},\n",
    "                         'V': {'time': 0.0, 'flies': 0.5, 'like': 0.5, 'an': 0.0, 'arrow': 0.0},\n",
    "                         'P': {'time': 0.0, 'flies': 0.0, 'like': 1.0, 'an': 0.0, 'arrow': 0.0},\n",
    "                         'N': {'time': 0.3, 'flies': 0.3, 'like': 0.0, 'an': 0.0, 'arrow': 0.4}\n",
    "                      }\n",
    "hmm.transition_probas = {  \n",
    "                           'D': {'D': 0.0, 'N': 1.0, 'P': 0.0, 'V': 0.0},\n",
    "                           'N': {'D': 0.0, 'N': 0.3, 'P': 0.2, 'V': 0.5},\n",
    "                           'P': {'D': 0.8, 'N': 0.2, 'P': 0.0, 'V': 0.0},\n",
    "                           'V': {'D': 0.2, 'N': 0.5, 'P': 0.3, 'V': 0.0}\n",
    "                        }\n",
    "\n",
    "path, proba = viterbi(hmm, ['time', 'flies', 'like', 'an', 'arrow'])\n",
    "assert list(path) ==  ['N', 'V', 'P', 'D', 'N']\n",
    "assert .003 == round(proba, 3)"
   ]
  },
  {
   "cell_type": "code",
   "execution_count": null,
   "metadata": {
    "deletable": false,
    "editable": false,
    "nbgrader": {
     "cell_type": "code",
     "checksum": "059a99ae99b915934121d7a19bf3c9e5",
     "grade": true,
     "grade_id": "viterbi2",
     "locked": true,
     "points": 3,
     "schema_version": 3,
     "solution": false,
     "task": false
    }
   },
   "outputs": [],
   "source": []
  },
  {
   "cell_type": "markdown",
   "metadata": {
    "deletable": false,
    "editable": false,
    "nbgrader": {
     "cell_type": "markdown",
     "checksum": "4e4ef0b8fb0d52c255ba2d37f2366ffd",
     "grade": false,
     "grade_id": "second-best-d",
     "locked": true,
     "schema_version": 3,
     "solution": false,
     "task": false
    }
   },
   "source": [
    "Sometimes we want to find the second most probable output path for an input sentence. In the cell below, describe in words an algorithm to find the second most probable path. What is its Big-Oh runtime?"
   ]
  },
  {
   "cell_type": "markdown",
   "metadata": {
    "deletable": false,
    "nbgrader": {
     "cell_type": "markdown",
     "checksum": "fec681361e1655f08106d9b581af8b48",
     "grade": true,
     "grade_id": "second-best",
     "locked": false,
     "points": 3,
     "schema_version": 3,
     "solution": true,
     "task": false
    }
   },
   "source": [
    "Delete each edge of the most probable path one by one and the run the viterbi algorithm again to find the most probable path on the modified graph then put back the deleted edge and delete one other edge. Because the second most probable output path won't share at least 1 edge with the most probable path. So the running time will be O(N^2 * T^2)."
   ]
  },
  {
   "cell_type": "markdown",
   "metadata": {},
   "source": [
    "### running your HMM on real data\n",
    "\n",
    "Now that your HMM is working, we'll apply it to some real data. The file `pos.txt` contains sentences from news articles that have been annotated with their parts-of-speech. A list of part-of-speech tag definitions can be found [here](https://www.ling.upenn.edu/courses/Fall_2003/ling001/penn_treebank_pos.html)."
   ]
  },
  {
   "cell_type": "code",
   "execution_count": 36,
   "metadata": {},
   "outputs": [
    {
     "name": "stdout",
     "output_type": "stream",
     "text": [
      "read 84 sentences containing 1894 tokens\n"
     ]
    }
   ],
   "source": [
    "def read_labeled_data(filename):\n",
    "    sentences = []\n",
    "    tags = []\n",
    "    cur_sentence = []\n",
    "    cur_tags = []\n",
    "    for line in open(filename):\n",
    "        parts = line.split()\n",
    "        if len(parts) < 2: # next sentence\n",
    "            sentences.append(cur_sentence)\n",
    "            tags.append(cur_tags)\n",
    "            cur_sentence = []\n",
    "            cur_tags = []\n",
    "        else:\n",
    "            cur_sentence.append(parts[0])\n",
    "            cur_tags.append(parts[1])\n",
    "    return sentences, tags\n",
    "sentences, tags = read_labeled_data('pos.txt')\n",
    "print('read %d sentences containing %d tokens' % (len(sentences), sum(len(s) for s in sentences)))"
   ]
  },
  {
   "cell_type": "code",
   "execution_count": 37,
   "metadata": {},
   "outputs": [
    {
     "name": "stdout",
     "output_type": "stream",
     "text": [
      "34 unique states\n",
      "716 unique words\n"
     ]
    }
   ],
   "source": [
    "# find the unique set of states\n",
    "states = set()\n",
    "for tag_list in tags:\n",
    "    states.update(tag_list)\n",
    "states = sorted(list(states))\n",
    "print('%d unique states' % len(states))\n",
    "\n",
    "# find the vocabulary\n",
    "vocab = set()\n",
    "for sentence in sentences:\n",
    "    vocab.update(sentence)\n",
    "vocab = sorted(list(vocab))\n",
    "print('%d unique words' % len(vocab))"
   ]
  },
  {
   "cell_type": "code",
   "execution_count": 38,
   "metadata": {
    "deletable": false,
    "editable": false,
    "nbgrader": {
     "cell_type": "code",
     "checksum": "d4bfcac9973eb3c16cd73a5a85f372f6",
     "grade": true,
     "grade_id": "hmm-all",
     "locked": true,
     "points": 3,
     "schema_version": 3,
     "solution": false,
     "task": false
    }
   },
   "outputs": [
    {
     "name": "stdout",
     "output_type": "stream",
     "text": [
      "predicted parts of speech for the sentence ['Look', 'at', 'what', 'happened']\n",
      "['VB', 'IN', 'WP', 'VBD'] 4.964473162939972e-10\n"
     ]
    }
   ],
   "source": [
    "train_sentences, test_sentences = sentences[:-10], sentences[-10:]\n",
    "train_tags, test_tags = tags[:-10], tags[-10:]\n",
    "\n",
    "hmm = HMM(states=states, vocab=vocab, smoothing=0.001)\n",
    "hmm.start_probas = fit_start_probas(hmm, train_tags)\n",
    "hmm.transition_probas = fit_transition_probas(hmm, train_tags)\n",
    "hmm.emission_probas = fit_emission_probas(hmm, train_sentences, train_tags)\n",
    "sentence = ['Look', 'at', 'what', 'happened']\n",
    "print('predicted parts of speech for the sentence %s' % str(sentence))\n",
    "path, proba = viterbi(hmm, sentence)\n",
    "print(path, proba)\n",
    "assert path == ['VB', 'IN', 'WP', 'VBD']"
   ]
  },
  {
   "cell_type": "markdown",
   "metadata": {},
   "source": [
    "There are many ways to evaluate accuracy of an HMM. A simple way is to compute the accuracy averaged over all tokens."
   ]
  },
  {
   "cell_type": "code",
   "execution_count": 39,
   "metadata": {},
   "outputs": [
    {
     "name": "stdout",
     "output_type": "stream",
     "text": [
      "              precision    recall  f1-score   support\n",
      "\n",
      "           $       0.70      1.00      0.82         7\n",
      "           ,       0.93      1.00      0.96        13\n",
      "           .       0.83      1.00      0.91        10\n",
      "           :       0.00      0.00      0.00         0\n",
      "          CC       1.00      1.00      1.00         8\n",
      "          CD       0.80      0.75      0.77        16\n",
      "          DT       0.93      1.00      0.96        13\n",
      "          EX       0.00      0.00      0.00         0\n",
      "          IN       0.93      0.93      0.93        29\n",
      "          JJ       0.75      0.60      0.67        15\n",
      "         JJR       0.17      0.33      0.22         3\n",
      "         JJS       0.00      0.00      0.00         0\n",
      "          MD       0.00      0.00      0.00         0\n",
      "          NN       0.88      0.58      0.70        36\n",
      "         NNP       0.92      0.38      0.54        29\n",
      "        NNPS       0.00      0.00      0.00         1\n",
      "         NNS       0.94      0.63      0.76        27\n",
      "         POS       0.67      1.00      0.80         2\n",
      "         PRP       0.00      0.00      0.00         0\n",
      "        PRP$       0.00      0.00      0.00         0\n",
      "          RB       0.00      0.00      0.00         1\n",
      "         RBR       0.33      1.00      0.50         1\n",
      "          TO       1.00      1.00      1.00         6\n",
      "          VB       0.50      0.33      0.40         3\n",
      "         VBD       0.57      0.44      0.50         9\n",
      "         VBG       0.00      0.00      0.00         0\n",
      "         VBN       0.67      1.00      0.80         2\n",
      "         VBP       0.00      0.00      0.00         0\n",
      "         VBZ       0.00      0.00      0.00         0\n",
      "         WDT       0.00      0.00      0.00         1\n",
      "          WP       0.00      0.00      0.00         0\n",
      "         WRB       0.00      0.00      0.00         0\n",
      "          ``       0.00      0.00      0.00         0\n",
      "\n",
      "    accuracy                           0.71       232\n",
      "   macro avg       0.41      0.42      0.40       232\n",
      "weighted avg       0.85      0.71      0.75       232\n",
      "\n"
     ]
    }
   ],
   "source": [
    "def evaluate(hmm, sentences, tags):\n",
    "    truths = []\n",
    "    preds = []\n",
    "    for sentence, tag_list in zip(sentences, tags):\n",
    "        path, proba = viterbi(hmm, sentence)\n",
    "        truths.extend(tag_list)\n",
    "        preds.extend(path)\n",
    "    print(classification_report(truths, preds, zero_division=0))\n",
    "    \n",
    "evaluate(hmm, test_sentences, test_tags)"
   ]
  },
  {
   "cell_type": "markdown",
   "metadata": {},
   "source": [
    "What will happen if the HMM encounters a word that is not in `vocab`?  How could you fix this?"
   ]
  },
  {
   "cell_type": "markdown",
   "metadata": {
    "deletable": false,
    "nbgrader": {
     "cell_type": "markdown",
     "checksum": "d3abb38429edf5161d5a3d977364bc83",
     "grade": true,
     "grade_id": "missing-word",
     "locked": false,
     "points": 3,
     "schema_version": 3,
     "solution": true,
     "task": false
    }
   },
   "source": [
    "HMM will encounter the new observations of the new words that haven't emission probabilities. The simplest way to handle unseen observation of new words is just assign them zero probabilities. A better method is that we can also use some smoothing method on the paramater estimates to solve this problem. In addition, another way to solve this problem is to have a pseudo observation for rare training observations or unseen observations, e.g. number for all numbers."
   ]
  },
  {
   "cell_type": "markdown",
   "metadata": {},
   "source": [
    "## Part III: RNNs for POS tagging\n",
    "\n",
    "Finally, we'll apply RNNs to this task. Below is a slightly modified version of the RNN we introduced in lecture.\n",
    "\n",
    "We'll first train it using the `small` dataset."
   ]
  },
  {
   "cell_type": "code",
   "execution_count": 40,
   "metadata": {},
   "outputs": [],
   "source": [
    "class RNN(nn.Module):\n",
    "    def __init__(self, input_size, hidden_size, output_size, states, verbose=True):\n",
    "        super(RNN, self).__init__()\n",
    "        self.states = states\n",
    "        self.verbose = verbose\n",
    "        self.n_hidden = hidden_size\n",
    "        # W_xh\n",
    "        self.input_to_hidden = nn.Linear(input_size, hidden_size)\n",
    "        # W_hh\n",
    "        self.hidden_to_hidden = nn.Linear(hidden_size, hidden_size)\n",
    "        # W_hy\n",
    "        self.hidden_to_output = nn.Linear(hidden_size, output_size)\n",
    "        self.tanh = nn.Tanh()\n",
    "        self.softmax = nn.Softmax(dim=1)\n",
    "        \n",
    "    def forward(self, x, h_prev):\n",
    "        # tanh(𝑊_hh h_t-1 + W_xh x_t)\n",
    "        h_new = self.tanh(self.hidden_to_hidden(h_prev) + self.input_to_hidden(x))\n",
    "        # y_h = softmax(W_hy h)\n",
    "        output = self.softmax(self.hidden_to_output(h_new))\n",
    "        \n",
    "        if self.verbose: print('h_new\\n', h_new, '\\noutput\\n',output, '\\ntop output\\n', output2label(output, self.states))\n",
    "        return output, h_new\n",
    "    \n",
    "    def forward_unrolled(self, x_list):\n",
    "        \"\"\"\n",
    "        Given a character list, unroll the network and gather\n",
    "        predictions for each time step.\n",
    "        \"\"\"\n",
    "        hidden = torch.zeros(1, self.n_hidden)\n",
    "        outputs = []\n",
    "        hiddens = []\n",
    "        for x in x_list:\n",
    "            output, hidden = self.forward(x, hidden)\n",
    "            outputs.append(output)\n",
    "            hiddens.append(hidden)\n",
    "        return torch.cat(outputs), hidden\n",
    "    \n",
    "def output2label(output, states):\n",
    "    \"\"\"\n",
    "    return the letter for the most probable prediction\n",
    "    \"\"\"\n",
    "    top_n, top_i = output.topk(1)\n",
    "    return states[top_i.item()] # , math.exp(top_n)\n",
    "\n",
    "\n",
    "def one_hot(vocab, word):\n",
    "    x = torch.zeros((1, len(vocab)))\n",
    "    x[0][vocab.index(word)] = 1.0\n",
    "    return x\n",
    "\n",
    "def one_hots(vocab, words):\n",
    "    return torch.cat([one_hot(vocab, w) for w in words])\n",
    "\n",
    "torch.random.manual_seed(42)\n",
    "rnn = RNN(len(vocab_small), 2, len(states_small), states_small)"
   ]
  },
  {
   "cell_type": "code",
   "execution_count": 41,
   "metadata": {},
   "outputs": [
    {
     "name": "stdout",
     "output_type": "stream",
     "text": [
      "h_new\n",
      " tensor([[-0.3163, -0.0849]], grad_fn=<TanhBackward>) \n",
      "output\n",
      " tensor([[0.2940, 0.1594, 0.5466]], grad_fn=<SoftmaxBackward>) \n",
      "top output\n",
      " V\n",
      "h_new\n",
      " tensor([[-0.0111,  0.2785]], grad_fn=<TanhBackward>) \n",
      "output\n",
      " tensor([[0.3631, 0.1358, 0.5010]], grad_fn=<SoftmaxBackward>) \n",
      "top output\n",
      " V\n",
      "h_new\n",
      " tensor([[-0.2006, -0.0117]], grad_fn=<TanhBackward>) \n",
      "output\n",
      " tensor([[0.3072, 0.1523, 0.5404]], grad_fn=<SoftmaxBackward>) \n",
      "top output\n",
      " V\n"
     ]
    }
   ],
   "source": [
    "# here's a prediction for one sentence, with random weights\n",
    "outputs, hiddens = rnn.forward_unrolled(one_hots(vocab_small, ['the', 'boy', 'jumped']))"
   ]
  },
  {
   "cell_type": "code",
   "execution_count": 42,
   "metadata": {},
   "outputs": [
    {
     "data": {
      "text/plain": [
       "(tensor([[0., 0., 0., 0., 0., 0., 1.],\n",
       "         [0., 1., 0., 0., 0., 0., 0.],\n",
       "         [0., 0., 0., 0., 1., 0., 0.]]), tensor([[1., 0., 0.],\n",
       "         [0., 1., 0.],\n",
       "         [0., 0., 1.]]))"
      ]
     },
     "execution_count": 42,
     "metadata": {},
     "output_type": "execute_result"
    }
   ],
   "source": [
    "# we'll have to one-hot-encode both the input words and output states to create the data.\n",
    "rnn_data_small = [(one_hots(vocab_small, sentence), one_hots(states_small, tag_list)) \n",
    "                    for sentence, tag_list in zip(sentences_small, tags_small)]\n",
    "rnn_data_small[0]"
   ]
  },
  {
   "cell_type": "code",
   "execution_count": 43,
   "metadata": {},
   "outputs": [
    {
     "name": "stderr",
     "output_type": "stream",
     "text": [
      "100%|██████████████████████████████████████████████████████████████████████████████████| 10/10 [00:00<00:00, 57.96it/s]\n"
     ]
    },
    {
     "data": {
      "image/png": "[encoded data removed]",
      "text/plain": [
       "<Figure size 432x288 with 1 Axes>"
      ]
     },
     "metadata": {
      "needs_background": "light"
     },
     "output_type": "display_data"
    },
    {
     "data": {
      "image/png": "[encoded data removed]",
      "text/plain": [
       "<Figure size 432x288 with 1 Axes>"
      ]
     },
     "metadata": {
      "needs_background": "light"
     },
     "output_type": "display_data"
    },
    {
     "data": {
      "text/plain": [
       "RNN(\n",
       "  (input_to_hidden): Linear(in_features=7, out_features=2, bias=True)\n",
       "  (hidden_to_hidden): Linear(in_features=2, out_features=2, bias=True)\n",
       "  (hidden_to_output): Linear(in_features=2, out_features=3, bias=True)\n",
       "  (tanh): Tanh()\n",
       "  (softmax): Softmax(dim=1)\n",
       ")"
      ]
     },
     "execution_count": 43,
     "metadata": {},
     "output_type": "execute_result"
    }
   ],
   "source": [
    "def train_rnn(rnn, train_data, test_data, epochs=20, learning_rate=0.1):\n",
    "    torch.random.manual_seed(42)  # for reproducibility\n",
    "    criterion = nn.BCELoss()\n",
    "    optimizer = torch.optim.Adam(rnn.parameters(),\n",
    "                                 lr=learning_rate) \n",
    "    rnn.verbose = False\n",
    "    loss_val = []\n",
    "    test_acc = []\n",
    "    # main training loop\n",
    "    # here, we're updating after each sentence.\n",
    "    # to improve convergence, we should really use mini-batches (e.g., a group of ~20 sentences)\n",
    "    # but, this is a bit easier.\n",
    "    for epoch in tqdm(range(epochs), total=epochs):\n",
    "        for sentence, tags in train_data:\n",
    "            optimizer.zero_grad()                             # reset all the gradient information\n",
    "            outputs, hiddens = rnn.forward_unrolled(sentence) # predict on this sentence\n",
    "            loss = criterion(outputs, tags)                   # compute loss\n",
    "            loss.backward()                                   # computes all the gradients\n",
    "            optimizer.step()                                  # update parameters\n",
    "            loss_val.append(loss.item())                      # track loss on each sentence\n",
    "        # after each epoch, record the test accuracy.\n",
    "        test_acc.append(evaluate_rnn(rnn, test_data, verbose=False))\n",
    "\n",
    "    # plot training loss\n",
    "    plt.figure()\n",
    "    plt.plot(loss_val, 'bo-')\n",
    "    plt.ylabel('loss')\n",
    "    plt.xlabel('instance')\n",
    "    plt.title('training')\n",
    "    plt.show()\n",
    "    # plot testing F1\n",
    "    plt.figure()\n",
    "    plt.plot(test_acc, 'bo-')\n",
    "    plt.ylabel('f1')\n",
    "    plt.xlabel('epoch')\n",
    "    plt.title('testing')\n",
    "    plt.show()\n",
    "    \n",
    "    return rnn\n",
    "\n",
    "\n",
    "def evaluate_rnn(rnn, data, verbose=True):\n",
    "    rnn.verbose = False\n",
    "    truths = []\n",
    "    preds = []\n",
    "    for sentence, tag_list in data:\n",
    "        outputs, _ = rnn.forward_unrolled(sentence)\n",
    "        pred = [output2label(output, rnn.states) for output in outputs]\n",
    "        truth = [output2label(tag, rnn.states) for tag in tag_list]\n",
    "        truths.extend(truth)\n",
    "        preds.extend(pred)\n",
    "    if verbose:\n",
    "        print(classification_report(truths, preds, zero_division=0))\n",
    "    return f1_score(truths, preds, average='weighted')\n",
    "\n",
    "rnn = RNN(len(vocab_small), 2, len(states_small), states_small)\n",
    "train_rnn(rnn, rnn_data_small, rnn_data_small, epochs=10)"
   ]
  },
  {
   "cell_type": "markdown",
   "metadata": {},
   "source": [
    "The RNN seems to have no problem fitting this tiny dataset."
   ]
  },
  {
   "cell_type": "code",
   "execution_count": 44,
   "metadata": {},
   "outputs": [
    {
     "name": "stdout",
     "output_type": "stream",
     "text": [
      "h_new\n",
      " tensor([[0.9846, 0.9784]], grad_fn=<TanhBackward>) \n",
      "output\n",
      " tensor([[0.9866, 0.0082, 0.0053]], grad_fn=<SoftmaxBackward>) \n",
      "top output\n",
      " D\n",
      "h_new\n",
      " tensor([[ 0.6585, -0.9980]], grad_fn=<TanhBackward>) \n",
      "output\n",
      " tensor([[4.6534e-03, 9.9509e-01, 2.5693e-04]], grad_fn=<SoftmaxBackward>) \n",
      "top output\n",
      " N\n",
      "h_new\n",
      " tensor([[-0.9099,  0.9711]], grad_fn=<TanhBackward>) \n",
      "output\n",
      " tensor([[0.0046, 0.0027, 0.9927]], grad_fn=<SoftmaxBackward>) \n",
      "top output\n",
      " V\n"
     ]
    }
   ],
   "source": [
    "# here's one prediction of the trained RNN\n",
    "rnn.verbose=True\n",
    "_, _ = rnn.forward_unrolled(one_hots(vocab_small, ['the', 'boy', 'jumped']))"
   ]
  },
  {
   "cell_type": "markdown",
   "metadata": {},
   "source": [
    "### RNNs on real data.\n",
    "\n",
    "Next, we'll try the larger dataset."
   ]
  },
  {
   "cell_type": "code",
   "execution_count": 45,
   "metadata": {},
   "outputs": [
    {
     "name": "stdout",
     "output_type": "stream",
     "text": [
      "74 training and 10 testing sentences\n"
     ]
    }
   ],
   "source": [
    "# one-hot-encode the larger POS dataset\n",
    "rnn_data = [(one_hots(vocab, sentence), one_hots(states, tag_list)) \n",
    "            for sentence, tag_list in zip(sentences, tags)]\n",
    "rnn_data_train, rnn_data_test = rnn_data[:-10], rnn_data[-10:]\n",
    "print('%d training and %d testing sentences' % (len(rnn_data_train), len(rnn_data_test)))"
   ]
  },
  {
   "cell_type": "code",
   "execution_count": 46,
   "metadata": {},
   "outputs": [
    {
     "name": "stderr",
     "output_type": "stream",
     "text": [
      "100%|██████████████████████████████████████████████████████████████████████████████████| 15/15 [00:09<00:00,  1.57it/s]\n"
     ]
    },
    {
     "data": {
      "image/png": "[encoded data removed]",
      "text/plain": [
       "<Figure size 432x288 with 1 Axes>"
      ]
     },
     "metadata": {
      "needs_background": "light"
     },
     "output_type": "display_data"
    },
    {
     "data": {
      "image/png": "[encoded data removed]",
      "text/plain": [
       "<Figure size 432x288 with 1 Axes>"
      ]
     },
     "metadata": {
      "needs_background": "light"
     },
     "output_type": "display_data"
    },
    {
     "data": {
      "text/plain": [
       "RNN(\n",
       "  (input_to_hidden): Linear(in_features=716, out_features=5, bias=True)\n",
       "  (hidden_to_hidden): Linear(in_features=5, out_features=5, bias=True)\n",
       "  (hidden_to_output): Linear(in_features=5, out_features=34, bias=True)\n",
       "  (tanh): Tanh()\n",
       "  (softmax): Softmax(dim=1)\n",
       ")"
      ]
     },
     "execution_count": 46,
     "metadata": {},
     "output_type": "execute_result"
    }
   ],
   "source": [
    "rnn = RNN(len(vocab), 5, len(states), states)\n",
    "train_rnn(rnn, rnn_data_train, rnn_data_test, epochs=15)"
   ]
  },
  {
   "cell_type": "code",
   "execution_count": 47,
   "metadata": {},
   "outputs": [
    {
     "name": "stdout",
     "output_type": "stream",
     "text": [
      "h_new\n",
      " tensor([[0.9532, 0.9858, 0.9116, 0.9939, 0.3064]], grad_fn=<TanhBackward>) \n",
      "output\n",
      " tensor([[1.6956e-05, 2.2967e-03, 4.2892e-07, 6.3487e-09, 2.0585e-02, 1.1627e-08,\n",
      "         1.8853e-07, 1.3366e-04, 1.1861e-02, 2.2663e-06, 2.3103e-08, 6.4031e-03,\n",
      "         4.1686e-03, 1.5798e-02, 2.5836e-08, 2.5736e-08, 1.0276e-05, 2.0618e-07,\n",
      "         2.3680e-02, 1.8028e-05, 1.2366e-06, 2.4062e-04, 4.8615e-04, 3.3632e-09,\n",
      "         8.8837e-01, 1.6134e-13, 1.3964e-02, 1.1612e-07, 3.4894e-04, 5.2297e-10,\n",
      "         4.2413e-03, 2.2215e-04, 4.7111e-03, 2.4391e-03]],\n",
      "       grad_fn=<SoftmaxBackward>) \n",
      "top output\n",
      " VB\n",
      "h_new\n",
      " tensor([[ 0.9780, -0.9996, -0.9974,  0.9995, -0.9946]], grad_fn=<TanhBackward>) \n",
      "output\n",
      " tensor([[8.7841e-12, 4.1193e-07, 6.7895e-10, 5.5192e-12, 2.9600e-08, 7.6220e-08,\n",
      "         4.7044e-06, 1.0727e-14, 2.1233e-11, 9.9785e-01, 8.3808e-08, 4.0552e-10,\n",
      "         1.7825e-08, 6.6950e-13, 8.7938e-11, 1.4300e-05, 4.8749e-08, 1.0208e-13,\n",
      "         1.5828e-07, 2.9628e-10, 1.2701e-04, 1.1820e-03, 3.2333e-07, 2.1520e-07,\n",
      "         8.1292e-11, 1.2474e-07, 6.0843e-09, 6.3277e-04, 2.0046e-07, 8.4920e-15,\n",
      "         8.2919e-08, 1.8537e-04, 6.4666e-09, 1.2842e-08]],\n",
      "       grad_fn=<SoftmaxBackward>) \n",
      "top output\n",
      " IN\n",
      "h_new\n",
      " tensor([[ 0.9927, -0.9892,  0.9462,  0.9998, -0.9841]], grad_fn=<TanhBackward>) \n",
      "output\n",
      " tensor([[4.7439e-08, 3.5830e-03, 1.3007e-11, 1.2400e-07, 1.0097e-06, 3.6614e-10,\n",
      "         6.7895e-03, 1.2712e-11, 1.6068e-06, 6.6848e-02, 4.3801e-09, 5.3941e-05,\n",
      "         9.3028e-07, 2.4178e-08, 1.0517e-08, 4.3295e-09, 4.1516e-11, 1.0999e-13,\n",
      "         3.5519e-03, 2.3232e-07, 8.1746e-06, 1.0038e-03, 4.3915e-03, 5.9872e-04,\n",
      "         1.0564e-05, 2.6392e-05, 1.2612e-02, 6.0678e-05, 4.0054e-02, 1.7744e-10,\n",
      "         4.1449e-06, 8.5715e-01, 1.3367e-04, 3.1117e-03]],\n",
      "       grad_fn=<SoftmaxBackward>) \n",
      "top output\n",
      " WP\n",
      "h_new\n",
      " tensor([[-0.9981, -0.9415,  0.5049, -0.8844, -0.3065]], grad_fn=<TanhBackward>) \n",
      "output\n",
      " tensor([[3.0559e-09, 8.1473e-09, 1.7755e-10, 1.8129e-06, 3.4631e-12, 1.7120e-09,\n",
      "         7.6737e-04, 2.4910e-09, 9.8481e-09, 2.5929e-09, 3.0722e-06, 2.4804e-07,\n",
      "         2.8300e-09, 5.7067e-08, 3.4022e-04, 1.2491e-06, 2.5139e-11, 1.6337e-06,\n",
      "         8.1220e-13, 1.3391e-08, 3.9942e-10, 3.1045e-09, 5.4047e-08, 4.8072e-06,\n",
      "         4.6638e-10, 9.4584e-01, 1.0187e-03, 6.2655e-03, 7.0627e-05, 4.5687e-02,\n",
      "         2.9272e-10, 7.7795e-08, 1.1222e-07, 3.0980e-07]],\n",
      "       grad_fn=<SoftmaxBackward>) \n",
      "top output\n",
      " VBD\n"
     ]
    }
   ],
   "source": [
    "# predict on one example.\n",
    "rnn.verbose=True\n",
    "_, _ = rnn.forward_unrolled(one_hots(vocab, ['Look', 'at', 'what', 'happened']))"
   ]
  },
  {
   "cell_type": "code",
   "execution_count": 48,
   "metadata": {},
   "outputs": [
    {
     "name": "stdout",
     "output_type": "stream",
     "text": [
      "              precision    recall  f1-score   support\n",
      "\n",
      "           $       1.00      1.00      1.00         7\n",
      "           ,       1.00      1.00      1.00        13\n",
      "           .       1.00      1.00      1.00        10\n",
      "          CC       1.00      1.00      1.00         8\n",
      "          CD       0.63      0.75      0.69        16\n",
      "          DT       1.00      1.00      1.00        13\n",
      "          IN       0.90      0.93      0.92        29\n",
      "          JJ       0.88      0.47      0.61        15\n",
      "         JJR       0.00      0.00      0.00         3\n",
      "          NN       0.84      0.58      0.69        36\n",
      "         NNP       0.40      0.79      0.53        29\n",
      "        NNPS       0.00      0.00      0.00         1\n",
      "         NNS       1.00      0.59      0.74        27\n",
      "         POS       1.00      1.00      1.00         2\n",
      "          RB       0.25      1.00      0.40         1\n",
      "         RBR       0.50      1.00      0.67         1\n",
      "          TO       1.00      1.00      1.00         6\n",
      "          VB       0.00      0.00      0.00         3\n",
      "         VBD       0.67      0.44      0.53         9\n",
      "         VBN       0.67      1.00      0.80         2\n",
      "         WDT       0.00      0.00      0.00         1\n",
      "\n",
      "    accuracy                           0.75       232\n",
      "   macro avg       0.65      0.69      0.65       232\n",
      "weighted avg       0.80      0.75      0.75       232\n",
      "\n"
     ]
    },
    {
     "data": {
      "text/plain": [
       "0.7478553418566904"
      ]
     },
     "execution_count": 48,
     "metadata": {},
     "output_type": "execute_result"
    }
   ],
   "source": [
    "evaluate_rnn(rnn, rnn_data_test)"
   ]
  },
  {
   "cell_type": "markdown",
   "metadata": {},
   "source": [
    "### RNNs with word embeddings\n",
    "\n",
    "The RNN seems pretty comparable with the HMM. As usual, more data and more tuning would likely lead to higher accuracy for the RNN.\n",
    "\n",
    "Next, we can use the word embeddings as the input representation for each word, rather than the one-hot encoding."
   ]
  },
  {
   "cell_type": "code",
   "execution_count": 49,
   "metadata": {},
   "outputs": [
    {
     "name": "stdout",
     "output_type": "stream",
     "text": [
      "74 training and 10 testing sentences\n"
     ]
    }
   ],
   "source": [
    "# Use mean vector if word not in w2v\n",
    "MEAN_VEC = w2v.vectors.mean(axis=0)\n",
    "\n",
    "def embed_words_rnn(w2v, sentence):\n",
    "    \"\"\"\n",
    "    Embed each token with its vector from w2v.\n",
    "    \"\"\"\n",
    "    return torch.tensor([w2v[w.lower()] if w.lower() in w2v else MEAN_VEC for w in sentence])\n",
    "    \n",
    "rnn_data_embed = [(embed_words_rnn(w2v, sentence), one_hots(states, tag_list)) \n",
    "                    for sentence, tag_list in zip(sentences, tags)]\n",
    "rnn_data_embed_train, rnn_data_embed_test = rnn_data_embed[:-10], rnn_data_embed[-10:]\n",
    "print('%d training and %d testing sentences' % (len(rnn_data_embed_train), len(rnn_data_embed_test)))"
   ]
  },
  {
   "cell_type": "code",
   "execution_count": 109,
   "metadata": {},
   "outputs": [
    {
     "name": "stderr",
     "output_type": "stream",
     "text": [
      "100%|██████████████████████████████████████████████████████████████████████████████████| 25/25 [00:12<00:00,  1.98it/s]\n"
     ]
    },
    {
     "data": {
      "image/png": "[encoded data removed]",
      "text/plain": [
       "<Figure size 432x288 with 1 Axes>"
      ]
     },
     "metadata": {
      "needs_background": "light"
     },
     "output_type": "display_data"
    },
    {
     "data": {
      "image/png": "[encoded data removed]",
      "text/plain": [
       "<Figure size 432x288 with 1 Axes>"
      ]
     },
     "metadata": {
      "needs_background": "light"
     },
     "output_type": "display_data"
    },
    {
     "data": {
      "text/plain": [
       "RNN(\n",
       "  (input_to_hidden): Linear(in_features=50, out_features=19, bias=True)\n",
       "  (hidden_to_hidden): Linear(in_features=19, out_features=19, bias=True)\n",
       "  (hidden_to_output): Linear(in_features=19, out_features=34, bias=True)\n",
       "  (tanh): Tanh()\n",
       "  (softmax): Softmax(dim=1)\n",
       ")"
      ]
     },
     "execution_count": 109,
     "metadata": {},
     "output_type": "execute_result"
    }
   ],
   "source": [
    "# the input dimension has now changed to 50, the size of the word embedding\n",
    "rnn = RNN(50, 19, len(states), states)\n",
    "train_rnn(rnn, rnn_data_embed_train, rnn_data_embed_test, epochs=25, learning_rate=.003)"
   ]
  },
  {
   "cell_type": "code",
   "execution_count": 110,
   "metadata": {},
   "outputs": [
    {
     "name": "stdout",
     "output_type": "stream",
     "text": [
      "              precision    recall  f1-score   support\n",
      "\n",
      "           $       1.00      1.00      1.00         7\n",
      "           ,       1.00      1.00      1.00        13\n",
      "           .       1.00      1.00      1.00        10\n",
      "          CC       0.80      1.00      0.89         8\n",
      "          CD       1.00      0.94      0.97        16\n",
      "          DT       0.76      1.00      0.87        13\n",
      "          IN       1.00      0.90      0.95        29\n",
      "          JJ       0.62      0.67      0.65        15\n",
      "         JJR       0.00      0.00      0.00         3\n",
      "          NN       0.68      0.78      0.73        36\n",
      "         NNP       0.80      0.83      0.81        29\n",
      "        NNPS       0.00      0.00      0.00         1\n",
      "         NNS       0.84      0.78      0.81        27\n",
      "         POS       1.00      1.00      1.00         2\n",
      "        PRP$       0.00      0.00      0.00         0\n",
      "          RB       0.00      0.00      0.00         1\n",
      "         RBR       1.00      1.00      1.00         1\n",
      "          TO       1.00      1.00      1.00         6\n",
      "          VB       0.50      0.33      0.40         3\n",
      "         VBD       1.00      0.78      0.88         9\n",
      "         VBN       1.00      0.50      0.67         2\n",
      "         WDT       0.00      0.00      0.00         1\n",
      "\n",
      "    accuracy                           0.83       232\n",
      "   macro avg       0.68      0.66      0.66       232\n",
      "weighted avg       0.83      0.83      0.83       232\n",
      "\n"
     ]
    },
    {
     "data": {
      "text/plain": [
       "0.827363422760203"
      ]
     },
     "execution_count": 110,
     "metadata": {},
     "output_type": "execute_result"
    }
   ],
   "source": [
    "evaluate_rnn(rnn, rnn_data_embed_test)"
   ]
  },
  {
   "cell_type": "markdown",
   "metadata": {},
   "source": [
    "Hmm...at first glance it doesn't seem worth using an RNN with this data. But, maybe we haven't tuned it properly?\n",
    "\n",
    "Play around with the learning rate, hidden_size, and number of epochs for the final RNN model above. What is the best \"weighted avg\" F1 you can obtain? What are the values of the tuning parameters you use? One tip -- as you increase hidden size, you may need to reduce the learning rate. "
   ]
  },
  {
   "cell_type": "markdown",
   "metadata": {
    "deletable": false,
    "nbgrader": {
     "cell_type": "markdown",
     "checksum": "42aeccc9eaf711f49b7f4baccfce39e6",
     "grade": true,
     "grade_id": "rnn-tune",
     "locked": false,
     "points": 5,
     "schema_version": 3,
     "solution": true,
     "task": false
    }
   },
   "source": [
    "I can obtain the best \"weighted avg\" F1 is 0.83. I set hidden_size = 19, learning rate = 0.003, number of epochs = 25. My idea is that increasing hidden size, meanwhile reducing the learning rate, and increasing epochs so that trainning error can be approaching 0.  "
   ]
  },
  {
   "cell_type": "code",
   "execution_count": null,
   "metadata": {},
   "outputs": [],
   "source": []
  }
 ],
 "metadata": {
  "kernelspec": {
   "display_name": "Python 3",
   "language": "python",
   "name": "python3"
  },
  "language_info": {
   "codemirror_mode": {
    "name": "ipython",
    "version": 3
   },
   "file_extension": ".py",
   "mimetype": "text/x-python",
   "name": "python",
   "nbconvert_exporter": "python",
   "pygments_lexer": "ipython3",
   "version": "3.7.4"
  },
  "toc": {
   "base_numbering": 1,
   "nav_menu": {},
   "number_sections": true,
   "sideBar": true,
   "skip_h1_title": false,
   "title_cell": "Table of Contents",
   "title_sidebar": "Contents",
   "toc_cell": true,
   "toc_position": {},
   "toc_section_display": true,
   "toc_window_display": false
  }
 },
 "nbformat": 4,
 "nbformat_minor": 1
}
